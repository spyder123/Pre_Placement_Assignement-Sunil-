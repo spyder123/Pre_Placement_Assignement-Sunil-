{
 "cells": [
  {
   "cell_type": "markdown",
   "id": "12f3d71a",
   "metadata": {},
   "source": [
    "***💡 Question 1\n",
    "Given an integer n, return true if it is a power of three. Otherwise, return false.\n",
    "An integer n is a power of three, if there exists an integer x such that n == 3x.***\n",
    "\n",
    "Example 1:\n",
    "\n",
    "Input: n = 27\n",
    "\n",
    "Output: true\n",
    "\n",
    "Explanation: 27 = 33"
   ]
  },
  {
   "cell_type": "code",
   "execution_count": 2,
   "id": "04b90178",
   "metadata": {},
   "outputs": [
    {
     "name": "stdout",
     "output_type": "stream",
     "text": [
      "True\n"
     ]
    }
   ],
   "source": [
    "import math\n",
    "\n",
    "def isPowerOfThree(n):\n",
    "    if n <= 0:\n",
    "        return False\n",
    "\n",
    "    x = math.log10(n) / math.log10(3)\n",
    "    return x.is_integer()\n",
    "\n",
    "# Example usage\n",
    "print(isPowerOfThree(27))  # Output: True"
   ]
  },
  {
   "cell_type": "markdown",
   "id": "60b33881",
   "metadata": {},
   "source": [
    "Example 2:\n",
    "Input: n = 0\n",
    "\n",
    "Output: false\n",
    "\n",
    "Explanation: There is no x where 3x = 0."
   ]
  },
  {
   "cell_type": "code",
   "execution_count": 4,
   "id": "e82ab2f6",
   "metadata": {},
   "outputs": [
    {
     "name": "stdout",
     "output_type": "stream",
     "text": [
      "False\n"
     ]
    }
   ],
   "source": [
    "import math\n",
    "\n",
    "def isPowerOfThree(n):\n",
    "    if n <= 0:\n",
    "        return False\n",
    "\n",
    "    x = math.log10(n) / math.log10(3)\n",
    "    return x.is_integer()\n",
    "\n",
    "# Example usage\n",
    "print(isPowerOfThree(0))   # Output: False"
   ]
  },
  {
   "cell_type": "markdown",
   "id": "44a8ce5d",
   "metadata": {},
   "source": [
    "Example 3:\n",
    "Input: n = -1\n",
    "\n",
    "Output: false\n",
    "\n",
    "Explanation: There is no x where 3x = (-1)."
   ]
  },
  {
   "cell_type": "code",
   "execution_count": 5,
   "id": "b77ac2aa",
   "metadata": {},
   "outputs": [
    {
     "name": "stdout",
     "output_type": "stream",
     "text": [
      "False\n"
     ]
    }
   ],
   "source": [
    "import math\n",
    "\n",
    "def isPowerOfThree(n):\n",
    "    if n <= 0:\n",
    "        return False\n",
    "\n",
    "    x = math.log10(n) / math.log10(3)\n",
    "    return x.is_integer()\n",
    "\n",
    "print(isPowerOfThree(-1))  # Output: False"
   ]
  },
  {
   "cell_type": "markdown",
   "id": "8df3a7c7",
   "metadata": {},
   "source": [
    "***💡 Question 2\n",
    "You have a list arr of all integers in the range [1, n] sorted in a strictly increasing order. Apply the following algorithm on arr:\n",
    "Starting from left to right, remove the first number and every other number afterward until you reach the end of the list.\n",
    "Repeat the previous step again, but this time from right to left, remove the rightmost number and every other number from the remaining numbers.\n",
    "Keep repeating the steps again, alternating left to right and right to left, until a single number remains.\n",
    "Given the integer n, return the last number that remains in arr.***\n",
    "\n",
    "Example 1:\n",
    "\n",
    "Input: n = 9\n",
    "\n",
    "Output: 6\n",
    "\n",
    "Explanation:\n",
    "\n",
    "arr = [1, 2,3, 4,5, 6,7, 8,9]\n",
    "\n",
    "arr = [2,4, 6,8]\n",
    "\n",
    "arr = [2, 6]\n",
    "\n",
    "arr = [6]"
   ]
  },
  {
   "cell_type": "code",
   "execution_count": 6,
   "id": "cc0cb722",
   "metadata": {},
   "outputs": [
    {
     "name": "stdout",
     "output_type": "stream",
     "text": [
      "6\n"
     ]
    }
   ],
   "source": [
    "def lastRemaining(n):\n",
    "    # Initialize the left-to-right flag and the remaining numbers count\n",
    "    left_to_right = True\n",
    "    remaining = n\n",
    "\n",
    "    # Initialize the starting number and the step size\n",
    "    start = 1\n",
    "    step = 1\n",
    "\n",
    "    while remaining > 1:\n",
    "        # If moving left to right or moving right to left and remaining count is odd\n",
    "        if left_to_right or remaining % 2 == 1:\n",
    "            start += step\n",
    "\n",
    "        # Update the step size\n",
    "        step *= 2\n",
    "\n",
    "        # Update the remaining count and toggle the left-to-right flag\n",
    "        remaining //= 2\n",
    "        left_to_right = not left_to_right\n",
    "\n",
    "    return start\n",
    "\n",
    "# Example usage:\n",
    "n = 9\n",
    "result = lastRemaining(n)\n",
    "print(result)"
   ]
  },
  {
   "cell_type": "markdown",
   "id": "e8f47be0",
   "metadata": {},
   "source": [
    "Example 2:\n",
    "\n",
    "Input: n = 1\n",
    "Output: 1"
   ]
  },
  {
   "cell_type": "code",
   "execution_count": 8,
   "id": "4f1fcfc4",
   "metadata": {},
   "outputs": [
    {
     "name": "stdout",
     "output_type": "stream",
     "text": [
      "1\n"
     ]
    }
   ],
   "source": [
    "def last_remaining(n):\n",
    "    msb_pos = 0\n",
    "    while n > 1:\n",
    "        n = n // 2\n",
    "        msb_pos += 1\n",
    "    last_number = 1 << msb_pos\n",
    "    return last_number\n",
    "\n",
    "# Test the function with the given example\n",
    "n = 1\n",
    "print(last_remaining(n))  # Output: 1"
   ]
  },
  {
   "cell_type": "markdown",
   "id": "a28790a9",
   "metadata": {},
   "source": [
    "****💡 Question 3\n",
    "Given a set represented as a string, write a recursive code to print all subsets of it. The subsets can be printed in any order.****\n",
    "\n",
    "Example 1:\n",
    "\n",
    "Input :  set = “abc”\n",
    "\n",
    "Output : { “”, “a”, “b”, “c”, “ab”, “ac”, “bc”, “abc”}\n",
    "\n",
    "Example 2:\n",
    "\n",
    "Input : set = “abcd”\n",
    "\n",
    "Output : { “”, “a” ,”ab” ,”abc” ,”abcd”, “abd” ,”ac” ,”acd”, “ad” ,”b”, “bc” ,”bcd” ,”bd” ,”c” ,”cd” ,”d” }"
   ]
  },
  {
   "cell_type": "code",
   "execution_count": 25,
   "id": "022e3d6f",
   "metadata": {},
   "outputs": [
    {
     "name": "stdout",
     "output_type": "stream",
     "text": [
      "\n",
      "c\n",
      "b\n",
      "bc\n",
      "a\n",
      "ac\n",
      "ab\n",
      "abc\n",
      "\n",
      "d\n",
      "c\n",
      "cd\n",
      "b\n",
      "bd\n",
      "bc\n",
      "bcd\n",
      "a\n",
      "ad\n",
      "ac\n",
      "acd\n",
      "ab\n",
      "abd\n",
      "abc\n",
      "abcd\n"
     ]
    }
   ],
   "source": [
    "def print_subsets(set_str):\n",
    "    subset_helper(set_str, \"\", 0)\n",
    "\n",
    "def subset_helper(set_str, current_subset, index):\n",
    "    if index == len(set_str):\n",
    "        print(current_subset)\n",
    "        return\n",
    "# Exclude the current element\n",
    "    subset_helper(set_str, current_subset, index + 1)\n",
    "    \n",
    "# Include the current element\n",
    "    subset_helper(set_str, current_subset + set_str[index], index + 1)\n",
    "\n",
    "# Example usage\n",
    "print_subsets(\"abc\")\n",
    "print_subsets(\"abcd\")"
   ]
  },
  {
   "cell_type": "markdown",
   "id": "e1921eee",
   "metadata": {},
   "source": [
    "***💡 Question 4\n",
    "Given a string calculate length of the string using recursion.***\n",
    "\n",
    "Examples:\n",
    "\n",
    "Input : str = \"abcd\"\n",
    "\n",
    "Output :4\n",
    "\n",
    "Input : str = \"GEEKSFORGEEKS\"\n",
    "\n",
    "Output :13"
   ]
  },
  {
   "cell_type": "code",
   "execution_count": 9,
   "id": "86b004ea",
   "metadata": {},
   "outputs": [
    {
     "name": "stdout",
     "output_type": "stream",
     "text": [
      "Length of the string: 4\n"
     ]
    }
   ],
   "source": [
    "def calculate_length(string):\n",
    "    if string == \"\":\n",
    "        return 0\n",
    "    else:\n",
    "        return 1 + calculate_length(string[1:])\n",
    "\n",
    "# Example usage:\n",
    "string = \"abcd\"\n",
    "length = calculate_length(string)\n",
    "print(\"Length of the string:\", length)"
   ]
  },
  {
   "cell_type": "code",
   "execution_count": 11,
   "id": "11b6c365",
   "metadata": {},
   "outputs": [
    {
     "name": "stdout",
     "output_type": "stream",
     "text": [
      "Length of the string: 13\n"
     ]
    }
   ],
   "source": [
    "def calculate_length(string):\n",
    "    if string == \"\":\n",
    "        return 0\n",
    "    else:\n",
    "        return 1 + calculate_length(string[1:])\n",
    "\n",
    "# Example usage:\n",
    "\n",
    "string = \"GEEKSFORGEEKS\"\n",
    "length = calculate_length(string)\n",
    "print(\"Length of the string:\", length)"
   ]
  },
  {
   "cell_type": "markdown",
   "id": "9057ca5f",
   "metadata": {},
   "source": [
    "***💡 Question 5\n",
    "We are given a string S, we need to find count of all contiguous substrings starting and ending with same character.***\n",
    "\n",
    "Examples :\n",
    "\n",
    "Input : S = \"abcab\"\n",
    "\n",
    "Output : 7\n",
    "\n",
    "There are 15 substrings of \"abcab\"\n",
    "\n",
    "a, ab, abc, abca, abcab, b, bc, bca bcab, c, ca, cab, a, ab, b\n",
    "\n",
    "Out of the above substrings, there are 7 substrings : a, abca, b, bcab, c, a and b.\n",
    "\n",
    "Input : S = \"aba\"\n",
    "\n",
    "Output : 4\n",
    "\n",
    "The substrings are a, b, a and aba"
   ]
  },
  {
   "cell_type": "code",
   "execution_count": 14,
   "id": "df02d0d0",
   "metadata": {},
   "outputs": [
    {
     "name": "stdout",
     "output_type": "stream",
     "text": [
      "7\n"
     ]
    }
   ],
   "source": [
    "def count_substrings(s):\n",
    "    count = 0\n",
    "    n = len(s)\n",
    "    for i in range(n):\n",
    "        for j in range(i, n):\n",
    "            if s[i] == s[j]:\n",
    "                count += 1\n",
    "    return count\n",
    "\n",
    "print(count_substrings(\"abcab\"))  # Output: 7"
   ]
  },
  {
   "cell_type": "code",
   "execution_count": 15,
   "id": "3d7aca18",
   "metadata": {},
   "outputs": [
    {
     "name": "stdout",
     "output_type": "stream",
     "text": [
      "4\n"
     ]
    }
   ],
   "source": [
    "def count_substrings(s):\n",
    "    count = 0\n",
    "    n = len(s)\n",
    "    for i in range(n):\n",
    "        for j in range(i, n):\n",
    "            if s[i] == s[j]:\n",
    "                count += 1\n",
    "    return count\n",
    "\n",
    "print(count_substrings(\"aba\"))  # Output: 4"
   ]
  },
  {
   "cell_type": "markdown",
   "id": "5280aaf3",
   "metadata": {},
   "source": [
    "***💡 Question 6\n",
    "The tower of Hanoi is a famous puzzle where we have three rods and N disks. The objective of the puzzle is to move the entire stack to another rod. You are given the number of discs N. Initially, these discs are in the rod 1. You need to print all the steps of discs movement so that all the discs reach the 3rd rod. Also, you need to find the total moves.Note: The discs are arranged such that the top disc is numbered 1 and the bottom-most disc is numbered N. Also, all the discs have different sizes and a bigger disc cannot be put on the top of a smaller disc. Refer the provided link to get a better clarity about the puzzle.***\n",
    "\n",
    "Example 1:\n",
    "\n",
    "Input:N = 2\n",
    "\n",
    "Output:\n",
    "\n",
    "move disk 1 from rod 1 to rod 2\n",
    "\n",
    "move disk 2 from rod 1 to rod 3\n",
    "\n",
    "move disk 1 from rod 2 to rod 3 3\n",
    "\n",
    "Explanation:For N=2 , steps will be as follows in the example and total 3 steps will be taken."
   ]
  },
  {
   "cell_type": "code",
   "execution_count": 16,
   "id": "044d205e",
   "metadata": {},
   "outputs": [
    {
     "name": "stdout",
     "output_type": "stream",
     "text": [
      "move disk 1 from rod 1 to rod 2\n",
      "move disk 2 from rod 1 to rod 3\n",
      "move disk 1 from rod 2 to rod 3\n",
      "Total moves: 3\n"
     ]
    }
   ],
   "source": [
    "def towerOfHanoi(n, source, destination, auxiliary):\n",
    "    if n == 1:\n",
    "        print(\"move disk 1 from rod\", source, \"to rod\", destination)\n",
    "        return 1\n",
    "    \n",
    "    count = 0\n",
    "    \n",
    "    count += towerOfHanoi(n-1, source, auxiliary, destination)\n",
    "    \n",
    "    print(\"move disk\", n, \"from rod\", source, \"to rod\", destination)\n",
    "    count += 1\n",
    "    \n",
    "    count += towerOfHanoi(n-1, auxiliary, destination, source)\n",
    "    \n",
    "    return count\n",
    "\n",
    "\n",
    "# Example usage\n",
    "N = 2\n",
    "total_moves = towerOfHanoi(N, 1, 3, 2)\n",
    "print(\"Total moves:\", total_moves)\n"
   ]
  },
  {
   "cell_type": "markdown",
   "id": "7ddf22ef",
   "metadata": {},
   "source": [
    "Example 2:\n",
    "Input: N = 3\n",
    "\n",
    "Output:\n",
    "\n",
    "move disk 1 from rod 1 to rod 3\n",
    "\n",
    "move disk 2 from rod 1 to rod 2\n",
    "\n",
    "move disk 1 from rod 3 to rod 2\n",
    "\n",
    "move disk 3 from rod 1 to rod 3\n",
    "\n",
    "move disk 1 from rod 2 to rod 1\n",
    "\n",
    "move disk 2 from rod 2 to rod 3\n",
    "\n",
    "move disk 1 from rod 1 to rod 3 7\n",
    "\n",
    "Explanation:For N=3 , steps will be as follows in the example and total 7 steps will be taken."
   ]
  },
  {
   "cell_type": "code",
   "execution_count": 17,
   "id": "d702e9d8",
   "metadata": {},
   "outputs": [
    {
     "name": "stdout",
     "output_type": "stream",
     "text": [
      "move disk 1 from rod 1 to rod 3\n",
      "move disk 2 from rod 1 to rod 2\n",
      "move disk 1 from rod 3 to rod 2\n",
      "move disk 3 from rod 1 to rod 3\n",
      "move disk 1 from rod 2 to rod 1\n",
      "move disk 2 from rod 2 to rod 3\n",
      "move disk 1 from rod 1 to rod 3\n",
      "Total moves: 7\n"
     ]
    }
   ],
   "source": [
    "def towerOfHanoi(n, source, destination, auxiliary):\n",
    "    if n == 1:\n",
    "        print(\"move disk 1 from rod\", source, \"to rod\", destination)\n",
    "        return 1\n",
    "    \n",
    "    count = 0\n",
    "    \n",
    "    count += towerOfHanoi(n-1, source, auxiliary, destination)\n",
    "    \n",
    "    print(\"move disk\", n, \"from rod\", source, \"to rod\", destination)\n",
    "    count += 1\n",
    "    \n",
    "    count += towerOfHanoi(n-1, auxiliary, destination, source)\n",
    "    \n",
    "    return count\n",
    "\n",
    "\n",
    "# Example usage\n",
    "N = 3\n",
    "total_moves = towerOfHanoi(N, 1, 3, 2)\n",
    "print(\"Total moves:\", total_moves)"
   ]
  },
  {
   "cell_type": "markdown",
   "id": "5c2090dc",
   "metadata": {},
   "source": [
    "***💡 Question 7\n",
    "Given a string str, the task is to print all the permutations of str. A permutation is an arrangement of all or part of a set of objects, with regard to the order of the arrangement. For instance, the words ‘bat’ and ‘tab’ represents two distinct permutation (or arrangements) of a similar three letter word.***\n",
    "\n",
    "Examples:\n",
    "\n",
    "Input: str = “cd”\n",
    "\n",
    "Output: cd dc\n",
    "\n",
    "Input: str = “abb”\n",
    "\n",
    "Output: abb abb bab bba bab bba"
   ]
  },
  {
   "cell_type": "code",
   "execution_count": 18,
   "id": "8e31fe68",
   "metadata": {},
   "outputs": [
    {
     "name": "stdout",
     "output_type": "stream",
     "text": [
      "Permutations of cd:\n",
      "cd\n",
      "dc\n"
     ]
    }
   ],
   "source": [
    "def permute_string(str):\n",
    "    # Convert the string to a list of characters\n",
    "    chars = list(str)\n",
    "    # Call the helper function with initial parameters\n",
    "    permute_helper(chars, 0, len(chars) - 1)\n",
    "\n",
    "# Helper function to generate permutations\n",
    "def permute_helper(chars, l, r):\n",
    "    if l == r:\n",
    "        # Base case: reached the last character, print the permutation\n",
    "        print(''.join(chars))\n",
    "    else:\n",
    "        # Recursive case: generate permutations by swapping characters\n",
    "        for i in range(l, r + 1):\n",
    "            # Swap the current character with the first character\n",
    "            chars[l], chars[i] = chars[i], chars[l]\n",
    "            # Recursively generate permutations for the remaining characters\n",
    "            permute_helper(chars, l + 1, r)\n",
    "            # Restore the original order by swapping back\n",
    "            chars[l], chars[i] = chars[i], chars[l]\n",
    "\n",
    "# Test the function\n",
    "str = \"cd\"\n",
    "print(\"Permutations of\", str + \":\")\n",
    "permute_string(str)"
   ]
  },
  {
   "cell_type": "code",
   "execution_count": 19,
   "id": "85ec32ee",
   "metadata": {},
   "outputs": [
    {
     "name": "stdout",
     "output_type": "stream",
     "text": [
      "Permutations of abb:\n",
      "abb\n",
      "abb\n",
      "bab\n",
      "bba\n",
      "bba\n",
      "bab\n"
     ]
    }
   ],
   "source": [
    "def permute_string(str):\n",
    "    # Convert the string to a list of characters\n",
    "    chars = list(str)\n",
    "    # Call the helper function with initial parameters\n",
    "    permute_helper(chars, 0, len(chars) - 1)\n",
    "\n",
    "# Helper function to generate permutations\n",
    "def permute_helper(chars, l, r):\n",
    "    if l == r:\n",
    "        # Base case: reached the last character, print the permutation\n",
    "        print(''.join(chars))\n",
    "    else:\n",
    "        # Recursive case: generate permutations by swapping characters\n",
    "        for i in range(l, r + 1):\n",
    "            # Swap the current character with the first character\n",
    "            chars[l], chars[i] = chars[i], chars[l]\n",
    "            # Recursively generate permutations for the remaining characters\n",
    "            permute_helper(chars, l + 1, r)\n",
    "            # Restore the original order by swapping back\n",
    "            chars[l], chars[i] = chars[i], chars[l]\n",
    "\n",
    "# Test the function\n",
    "\n",
    "str = \"abb\"\n",
    "print(\"Permutations of\", str + \":\")\n",
    "permute_string(str)"
   ]
  },
  {
   "cell_type": "markdown",
   "id": "5e65ae21",
   "metadata": {},
   "source": [
    "**💡 Question 8\n",
    "Given a string, count total number of consonants in it. A consonant is an English alphabet character that is not vowel (a, e, i, o and u). Examples of constants are b, c, d, f, and g.**\n",
    "\n",
    "Examples :\n",
    "\n",
    "Input : abc de\n",
    "\n",
    "Output : 3\n",
    "\n",
    "There are three consonants b, c and d.\n",
    "\n",
    "Input : geeksforgeeks portal\n",
    "\n",
    "Output : 12"
   ]
  },
  {
   "cell_type": "code",
   "execution_count": 22,
   "id": "0007ce3f",
   "metadata": {},
   "outputs": [
    {
     "name": "stdout",
     "output_type": "stream",
     "text": [
      "3\n"
     ]
    }
   ],
   "source": [
    "def count_consonants(string):\n",
    "    consonants = 0\n",
    "    vowels = 'aeiou'  # assuming only lowercase vowels\n",
    "    \n",
    "    for char in string:\n",
    "        if char.isalpha() and char.lower() not in vowels:\n",
    "            consonants += 1\n",
    "    \n",
    "    return consonants\n",
    "input_string = \"abc de\"\n",
    "result = count_consonants(input_string)\n",
    "print(result)  # Output: 3"
   ]
  },
  {
   "cell_type": "code",
   "execution_count": 23,
   "id": "18dddb78",
   "metadata": {},
   "outputs": [
    {
     "name": "stdout",
     "output_type": "stream",
     "text": [
      "12\n"
     ]
    }
   ],
   "source": [
    "def count_consonants(string):\n",
    "    consonants = 0\n",
    "    vowels = 'aeiou'  # assuming only lowercase vowels\n",
    "    \n",
    "    for char in string:\n",
    "        if char.isalpha() and char.lower() not in vowels:\n",
    "            consonants += 1\n",
    "    \n",
    "    return consonants\n",
    "\n",
    "input_string = \"geeksforgeeks portal\"\n",
    "result = count_consonants(input_string)\n",
    "print(result)  # Output: 12"
   ]
  }
 ],
 "metadata": {
  "kernelspec": {
   "display_name": "Python 3 (ipykernel)",
   "language": "python",
   "name": "python3"
  },
  "language_info": {
   "codemirror_mode": {
    "name": "ipython",
    "version": 3
   },
   "file_extension": ".py",
   "mimetype": "text/x-python",
   "name": "python",
   "nbconvert_exporter": "python",
   "pygments_lexer": "ipython3",
   "version": "3.9.13"
  }
 },
 "nbformat": 4,
 "nbformat_minor": 5
}
