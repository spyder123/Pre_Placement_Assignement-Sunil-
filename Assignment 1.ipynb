{
 "cells": [
  {
   "cell_type": "markdown",
   "id": "729b773a",
   "metadata": {},
   "source": [
    "#### 1. Write a Python program to reverse a string without using any built-in string reversal functions."
   ]
  },
  {
   "cell_type": "code",
   "execution_count": 24,
   "id": "c41fd5d4",
   "metadata": {},
   "outputs": [
    {
     "name": "stdout",
     "output_type": "stream",
     "text": [
      "!dlrow olleH\n"
     ]
    }
   ],
   "source": [
    "def reverse_string(input_string):\n",
    "    reverse_string=\"\"\n",
    "    for i in range(len(input_string)-1,-1,-1):\n",
    "        reverse_string=reverse_string+input_string[i]\n",
    "    return reverse_string\n",
    "\n",
    "string_to_reversed=\"Hello world!\"\n",
    "\n",
    "reverse_string=reverse_string(string_to_reversed)\n",
    "\n",
    "print(reverse_string)\n",
    "    "
   ]
  },
  {
   "cell_type": "markdown",
   "id": "eec48e4b",
   "metadata": {},
   "source": [
    "#### 2. Implement a function to check if a given string is a palindrome.\n"
   ]
  },
  {
   "cell_type": "code",
   "execution_count": 25,
   "id": "5355d63d",
   "metadata": {},
   "outputs": [
    {
     "name": "stdout",
     "output_type": "stream",
     "text": [
      "True\n"
     ]
    }
   ],
   "source": [
    "def is_palindrome(input_string):\n",
    "    # Removing any whitespace and convert to lowercase\n",
    "    input_string = input_string.replace(\" \", \"\").lower()\n",
    "    \n",
    "    if input_string == input_string[::-1]:\n",
    "        return True\n",
    "    else:\n",
    "        return False\n",
    "\n",
    "# Example usage\n",
    "string_to_check = \"A man a plan a canal Panama\"\n",
    "is_palindrome = is_palindrome(string_to_check)\n",
    "print(is_palindrome)"
   ]
  },
  {
   "cell_type": "markdown",
   "id": "3c3f86b7",
   "metadata": {},
   "source": [
    "#### 3. Write a program to find the largest element in a given list."
   ]
  },
  {
   "cell_type": "code",
   "execution_count": 27,
   "id": "b70a4ca5",
   "metadata": {},
   "outputs": [
    {
     "name": "stdout",
     "output_type": "stream",
     "text": [
      "107\n"
     ]
    }
   ],
   "source": [
    "def find_largest_number(numbers):\n",
    "    if len(numbers)==0:\n",
    "        return None\n",
    "    largest_number=numbers[0]\n",
    "    for number in numbers:\n",
    "        if number > largest_number:\n",
    "            largest_number=number\n",
    "            \n",
    "    return largest_number\n",
    "    \n",
    "list_number=[17,51,24,64,98,105,107]\n",
    "find_largest_number=find_largest_number(list_number)\n",
    "print(find_largest_number)"
   ]
  },
  {
   "cell_type": "markdown",
   "id": "028a7e48",
   "metadata": {},
   "source": [
    "#### 4. Implement a function to count the occurrence of each element in a list.\n"
   ]
  },
  {
   "cell_type": "code",
   "execution_count": 29,
   "id": "8231e7a1",
   "metadata": {},
   "outputs": [
    {
     "name": "stdout",
     "output_type": "stream",
     "text": [
      "{1: 3, 2: 3, 3: 3, 4: 4, 5: 2, 6: 1}\n"
     ]
    }
   ],
   "source": [
    "def count_occurrence(input_list):\n",
    "    occurrence={}\n",
    "    \n",
    "    for element in input_list:\n",
    "        if element in occurrence:\n",
    "            occurrence[element]=occurrence[element]+1\n",
    "        else:\n",
    "            occurrence[element]=1\n",
    "    return occurrence\n",
    "            \n",
    "list_check=[1,2,3,4,5,4,3,2,1,4,5,6,3,2,1,4]\n",
    "count_occurrence=count_occurrence(list_check)\n",
    "print(count_occurrence)"
   ]
  },
  {
   "cell_type": "markdown",
   "id": "efd868a7",
   "metadata": {},
   "source": [
    "#### 5. Write a Python program to find the second largest number in a list.\n"
   ]
  },
  {
   "cell_type": "code",
   "execution_count": 30,
   "id": "7338b28f",
   "metadata": {},
   "outputs": [
    {
     "name": "stdout",
     "output_type": "stream",
     "text": [
      "102\n"
     ]
    }
   ],
   "source": [
    "def second_largest_number(number):\n",
    "    if len(number)<2:\n",
    "        return None\n",
    "    \n",
    "    number=sorted(number,reverse=True)\n",
    "    return number[1]\n",
    "    \n",
    "print(second_largest_number([10,30,40,50,88,99,102,105]))"
   ]
  },
  {
   "cell_type": "markdown",
   "id": "34542938",
   "metadata": {},
   "source": [
    "#### 6. Implement a function to remove duplicate elements from a list."
   ]
  },
  {
   "cell_type": "code",
   "execution_count": 31,
   "id": "70afb75c",
   "metadata": {},
   "outputs": [
    {
     "name": "stdout",
     "output_type": "stream",
     "text": [
      "[1, 2, 3, 4, 5, 6]\n"
     ]
    }
   ],
   "source": [
    "def remove_duplicate_elements(input_list):\n",
    "    return list(set(input_list))\n",
    "\n",
    "print(remove_duplicate_elements([1,2,3,4,5,4,3,2,1,4,5,6,3,2,1,4]))\n"
   ]
  },
  {
   "cell_type": "markdown",
   "id": "de2f4f41",
   "metadata": {},
   "source": [
    "#### 7. Write a program to calculate the factorial of a given number."
   ]
  },
  {
   "cell_type": "code",
   "execution_count": 32,
   "id": "40d4b475",
   "metadata": {},
   "outputs": [
    {
     "name": "stdout",
     "output_type": "stream",
     "text": [
      "120\n"
     ]
    }
   ],
   "source": [
    "def factorial_of_number(n):\n",
    "    if n<0:\n",
    "        return None\n",
    "    elif n==0:\n",
    "        return 1\n",
    "    else:\n",
    "        result=1\n",
    "        \n",
    "        for i in range(1,n+1):\n",
    "            result=result*i\n",
    "            \n",
    "        return result\n",
    "\n",
    "print(factorial_of_number(5))"
   ]
  },
  {
   "cell_type": "markdown",
   "id": "28a29d66",
   "metadata": {},
   "source": [
    "#### 8. Implement a function to check if a given number is prime."
   ]
  },
  {
   "cell_type": "code",
   "execution_count": 34,
   "id": "39c68987",
   "metadata": {},
   "outputs": [
    {
     "name": "stdout",
     "output_type": "stream",
     "text": [
      "True\n"
     ]
    }
   ],
   "source": [
    "def prime_num(n):\n",
    "    if n<2:\n",
    "        return False\n",
    "    \n",
    "    for i in range(2,int(n/2)+1):\n",
    "        if n % i==0:\n",
    "            return False\n",
    "        \n",
    "    return True\n",
    "\n",
    "\n",
    "print(prime_num(17))"
   ]
  },
  {
   "cell_type": "markdown",
   "id": "de0913e8",
   "metadata": {},
   "source": [
    "#### 9. Write a Python program to sort a list of integers in ascending order."
   ]
  },
  {
   "cell_type": "code",
   "execution_count": 35,
   "id": "d3f9f9c1",
   "metadata": {},
   "outputs": [
    {
     "name": "stdout",
     "output_type": "stream",
     "text": [
      "[1, 2, 3, 4, 5, 6, 7, 8]\n"
     ]
    }
   ],
   "source": [
    "def sort_list(input_list):\n",
    "    input_list.sort()\n",
    "    return input_list\n",
    "\n",
    "print(sort_list([5,4,6,8,2,1,3,7]))"
   ]
  },
  {
   "cell_type": "markdown",
   "id": "f4927b90",
   "metadata": {},
   "source": [
    "#### 10. Implement a function to find the sum of all numbers in a list.\n",
    "\n"
   ]
  },
  {
   "cell_type": "code",
   "execution_count": 36,
   "id": "1ce46345",
   "metadata": {},
   "outputs": [
    {
     "name": "stdout",
     "output_type": "stream",
     "text": [
      "21\n"
     ]
    }
   ],
   "source": [
    "def sum_num(input_list):\n",
    "    total=0\n",
    "    for num in input_list:\n",
    "        total=total+num\n",
    "    return total\n",
    "\n",
    "print(sum_num([1,2,3,4,5,6]))"
   ]
  },
  {
   "cell_type": "markdown",
   "id": "c1125d7f",
   "metadata": {},
   "source": [
    "#### 11. Write a program to find the common elements between two lists.\n",
    "\n"
   ]
  },
  {
   "cell_type": "code",
   "execution_count": 46,
   "id": "8a737034",
   "metadata": {},
   "outputs": [
    {
     "name": "stdout",
     "output_type": "stream",
     "text": [
      "Common Elements [4, 5]\n"
     ]
    }
   ],
   "source": [
    "def find_common_element(list1,list2):\n",
    "    common_elements=[]\n",
    "    for element in list1:\n",
    "        if element in list2:\n",
    "            common_elements.append(element)\n",
    "    return common_elements\n",
    "\n",
    "\n",
    "list1=[1,2,3,4,5]\n",
    "list2=[4,5,6,7,8]\n",
    "\n",
    "print(\"Common Elements\",find_common_element(list1,list2))"
   ]
  },
  {
   "cell_type": "markdown",
   "id": "6cbd3310",
   "metadata": {},
   "source": [
    "#### 12. Implement a function to check if a given string is an anagram of another string.\n",
    "\n"
   ]
  },
  {
   "cell_type": "code",
   "execution_count": 47,
   "id": "b878bc1e",
   "metadata": {},
   "outputs": [
    {
     "name": "stdout",
     "output_type": "stream",
     "text": [
      "The Strings are Anagrams.\n"
     ]
    }
   ],
   "source": [
    "def is_anagram(str1,str2):\n",
    "    \n",
    "    str1=str1.lower().replace(\" \",\"\")\n",
    "    str2=str2.lower().replace(\" \",\"\")\n",
    "    \n",
    "    if len(str1)!= len(str2):\n",
    "        return False\n",
    "    \n",
    "    \n",
    "    freq1={}\n",
    "    freq2={}\n",
    "    \n",
    "    for char in str1:\n",
    "        freq1[char] = freq1.get(char,0)+1\n",
    "        \n",
    "    for char in str2:\n",
    "        freq2[char] = freq2.get(char,0)+1\n",
    "        \n",
    "        \n",
    "    return freq1==freq2\n",
    "\n",
    "string1=\"Listen\"\n",
    "string2=\"Silent\"\n",
    "\n",
    "if is_anagram(string1,string2):\n",
    "    print(\"The Strings are Anagrams.\")\n",
    "    \n",
    "else:\n",
    "    print(\"The Strings are Not Anagrams.\")"
   ]
  },
  {
   "cell_type": "markdown",
   "id": "57011a55",
   "metadata": {},
   "source": [
    "#### 13.Write a Python program to generate all permutations of a given string.\n"
   ]
  },
  {
   "cell_type": "code",
   "execution_count": 48,
   "id": "1b0fad28",
   "metadata": {},
   "outputs": [
    {
     "name": "stdout",
     "output_type": "stream",
     "text": [
      "Permutation:- \n",
      "abc\n",
      "acb\n",
      "bac\n",
      "bca\n",
      "cab\n",
      "cba\n"
     ]
    }
   ],
   "source": [
    "from itertools import permutations\n",
    "\n",
    "def generate_permutations(string):\n",
    "    return [''.join(permutation) for permutation in permutations(string)]\n",
    "\n",
    "string = \"abc\"\n",
    "permutations=generate_permutations(string)\n",
    "print(\"Permutation:- \")\n",
    "\n",
    "for permutation in permutations:\n",
    "    print(permutation)"
   ]
  },
  {
   "cell_type": "markdown",
   "id": "6f778705",
   "metadata": {},
   "source": [
    "#### 14. Implement a function to calculate the Fibonacci sequence up to a given number of terms.\n"
   ]
  },
  {
   "cell_type": "code",
   "execution_count": 49,
   "id": "c9ca7627",
   "metadata": {},
   "outputs": [
    {
     "name": "stdout",
     "output_type": "stream",
     "text": [
      "[1, 1, 2, 3, 5, 8, 13, 21, 34, 55]\n"
     ]
    }
   ],
   "source": [
    "\n",
    "def fibonacci(n):\n",
    "    sequence=[1,1]\n",
    "    \n",
    "    for i in range(2,n):\n",
    "        next_term = sequence[i-1]+ sequence[i-2]\n",
    "        sequence.append(next_term)\n",
    "        \n",
    "    return sequence[:n]\n",
    "Num_term=10\n",
    "print(fibonacci(Num_term))"
   ]
  },
  {
   "cell_type": "markdown",
   "id": "d09e4503",
   "metadata": {},
   "source": [
    "#### 15. Write a program to find the median of a list of numbers.\n",
    "\n"
   ]
  },
  {
   "cell_type": "code",
   "execution_count": 50,
   "id": "d300d4d4",
   "metadata": {},
   "outputs": [
    {
     "name": "stdout",
     "output_type": "stream",
     "text": [
      "5\n"
     ]
    }
   ],
   "source": [
    "def find_median(num):\n",
    "    sorted_num=sorted(num)\n",
    "    length = len(sorted_num)\n",
    "    \n",
    "    \n",
    "    if length % 2==0:\n",
    "        mid1=length//2\n",
    "        mid2=mid1-1\n",
    "        \n",
    "        median=(sorted_num[mid1]+sorted_num[mid2])/2\n",
    "        \n",
    "    else:\n",
    "        mid=length//2\n",
    "        median=sorted_num[mid]\n",
    "        \n",
    "    return median\n",
    "\n",
    "num_list = [1, 3, 5, 7, 9, 2, 4, 6, 8]\n",
    "\n",
    "print(find_median(num_list))"
   ]
  },
  {
   "cell_type": "markdown",
   "id": "39e1ad7e",
   "metadata": {},
   "source": [
    "#### 16. Implement a function to check if a given list is sorted in non-decreasing order.\n",
    "\n"
   ]
  },
  {
   "cell_type": "code",
   "execution_count": 51,
   "id": "3c3c7b20",
   "metadata": {},
   "outputs": [
    {
     "name": "stdout",
     "output_type": "stream",
     "text": [
      "Is The List Sorted? False\n",
      "Is The List Sorted? True\n"
     ]
    }
   ],
   "source": [
    "def is_sorted(num):\n",
    "    for i in range(len(num)-1):\n",
    "        if num[i]>num[i+1]:\n",
    "            return False\n",
    "    return True\n",
    "\n",
    "num_list1 = [6,7,8,1, 2, 3, 4, 5]\n",
    "num_list2 = [1, 2, 3, 4, 5]\n",
    "print(\"Is The List Sorted?\",is_sorted(num_list1))\n",
    "print(\"Is The List Sorted?\",is_sorted(num_list2))"
   ]
  },
  {
   "cell_type": "markdown",
   "id": "f41ae168",
   "metadata": {},
   "source": [
    "#### 17. Write a Python program to find the intersection of two lists.\n",
    "\n"
   ]
  },
  {
   "cell_type": "code",
   "execution_count": 52,
   "id": "fec90255",
   "metadata": {},
   "outputs": [
    {
     "name": "stdout",
     "output_type": "stream",
     "text": [
      "Intersection:- [4, 5]\n"
     ]
    }
   ],
   "source": [
    "def find_intersection(list1,list2):\n",
    "    set1=set(list1)\n",
    "    set2=set(list2)\n",
    "    intersection=set1.intersection(set2)\n",
    "    return list(intersection)\n",
    "\n",
    "list1=[1,2,3,4,5]\n",
    "list2=[4,5,6,7,8]\n",
    "print(\"Intersection:-\",find_intersection(list1,list2))"
   ]
  },
  {
   "cell_type": "markdown",
   "id": "ef0c0a99",
   "metadata": {},
   "source": [
    "#### 18. Implement a function to find the maximum subarray sum in a given list.\n",
    "\n"
   ]
  },
  {
   "cell_type": "code",
   "execution_count": 53,
   "id": "7e419f09",
   "metadata": {},
   "outputs": [
    {
     "name": "stdout",
     "output_type": "stream",
     "text": [
      "Maximum Subarray Sum:-  6\n"
     ]
    }
   ],
   "source": [
    "def find_max_subarray_sum(numbers):\n",
    "    max_sum=numbers[0]\n",
    "    current_sum=numbers[0]\n",
    "    \n",
    "    for num in numbers[1:]:\n",
    "        current_sum=max(num,current_sum+num)\n",
    "        max_sum=max(max_sum,current_sum)\n",
    "        \n",
    "    return max_sum\n",
    "\n",
    "num_list=[-2, 1, -3, 4, -1, 2, 1, -5, 4]\n",
    "print(\"Maximum Subarray Sum:- \",find_max_subarray_sum(num_list))"
   ]
  },
  {
   "cell_type": "markdown",
   "id": "eb536aa1",
   "metadata": {},
   "source": [
    "#### 19. Write a program to remove all vowels from a given string.\n",
    "\n"
   ]
  },
  {
   "cell_type": "code",
   "execution_count": 54,
   "id": "c531fdea",
   "metadata": {},
   "outputs": [
    {
     "name": "stdout",
     "output_type": "stream",
     "text": [
      "String Without Vowels:-  Hll, Wrld f Pythn!\n"
     ]
    }
   ],
   "source": [
    "def remove_vowels(string):\n",
    "    vowels=\"aeiouAEIOU\"\n",
    "    without_vowels=[char for char in string if char not in vowels]\n",
    "    return \"\".join(without_vowels)\n",
    "\n",
    "input_string=\"Hello, World Of Python!\"\n",
    "print(\"String Without Vowels:- \",remove_vowels(input_string))"
   ]
  },
  {
   "cell_type": "markdown",
   "id": "7709fc59",
   "metadata": {},
   "source": [
    "#### 20. Implement a function to reverse the order of words in a given sentence.\n",
    "\n"
   ]
  },
  {
   "cell_type": "code",
   "execution_count": 55,
   "id": "81e48e93",
   "metadata": {},
   "outputs": [
    {
     "name": "stdout",
     "output_type": "stream",
     "text": [
      "Reversed Sentence:-  Python! Of World Hello\n"
     ]
    }
   ],
   "source": [
    "def reverse_word(sentence):\n",
    "    words=sentence.split()\n",
    "    reversed_words=words[::-1]\n",
    "    reversed_sentence=\" \".join(reversed_words)\n",
    "    return reversed_sentence\n",
    "\n",
    "input_sentence=\"Hello World Of Python!\"\n",
    "print(\"Reversed Sentence:- \",reverse_word(input_sentence))"
   ]
  },
  {
   "cell_type": "markdown",
   "id": "4376746e",
   "metadata": {},
   "source": [
    "#### 22. Implement a function to find the first non-repeating character in a string.\n",
    "\n"
   ]
  },
  {
   "cell_type": "code",
   "execution_count": 56,
   "id": "c07ce54a",
   "metadata": {},
   "outputs": [
    {
     "name": "stdout",
     "output_type": "stream",
     "text": [
      "First Non-repeating character:-  c\n"
     ]
    }
   ],
   "source": [
    "from collections import Counter\n",
    "\n",
    "def find_first_non_repeating_char(string):\n",
    "    char_counts=Counter(string)\n",
    "    for char in string:\n",
    "        if char_counts[char]==1:\n",
    "            return char\n",
    "    return None\n",
    "\n",
    "input_string='abracadabra'\n",
    "print(\"First Non-repeating character:- \",find_first_non_repeating_char(input_string))"
   ]
  },
  {
   "cell_type": "markdown",
   "id": "c4eef00e",
   "metadata": {},
   "source": [
    "#### 23. Write a program to find the prime factors of a given number.\n"
   ]
  },
  {
   "cell_type": "code",
   "execution_count": 57,
   "id": "eaaf390f",
   "metadata": {},
   "outputs": [
    {
     "name": "stdout",
     "output_type": "stream",
     "text": [
      "Prime Factors of 24 : [2, 2, 2, 3]\n"
     ]
    }
   ],
   "source": [
    "def find_prime_factors(num):\n",
    "    factors=[]\n",
    "    divisor=2\n",
    "    while divisor<=num:\n",
    "        if num%divisor==0:\n",
    "            factors.append(divisor)\n",
    "            num//=divisor\n",
    "            \n",
    "        else:\n",
    "            divisor+=1\n",
    "    return factors\n",
    "\n",
    "input_num=24\n",
    "print(\"Prime Factors of\",input_num,\":\",find_prime_factors(input_num))"
   ]
  },
  {
   "cell_type": "markdown",
   "id": "df4168d9",
   "metadata": {},
   "source": [
    "#### 24. Implement a function to check if a given number is a power of two.\n",
    "\n"
   ]
  },
  {
   "cell_type": "code",
   "execution_count": 58,
   "id": "edaeec49",
   "metadata": {},
   "outputs": [
    {
     "name": "stdout",
     "output_type": "stream",
     "text": [
      "True\n",
      "True\n",
      "False\n",
      "False\n"
     ]
    }
   ],
   "source": [
    "def is_power_of_two(num):\n",
    "    if num<=0:\n",
    "        return False\n",
    "    return num & (num-1)==0\n",
    "\n",
    "print(is_power_of_two(4))\n",
    "print(is_power_of_two(16))\n",
    "print(is_power_of_two(24))\n",
    "print(is_power_of_two(10))"
   ]
  },
  {
   "cell_type": "markdown",
   "id": "b2c14d3e",
   "metadata": {},
   "source": [
    "#### 25. Write a Python program to merge two sorted lists into a single sorted list.\n"
   ]
  },
  {
   "cell_type": "code",
   "execution_count": 59,
   "id": "aca8463b",
   "metadata": {},
   "outputs": [
    {
     "name": "stdout",
     "output_type": "stream",
     "text": [
      "[1, 2, 3, 4, 5, 6, 7, 8]\n"
     ]
    }
   ],
   "source": [
    "\n",
    "def merged_sorted_list(list1,list2):\n",
    "    merged_list=sorted(list1+list2)\n",
    "    return merged_list\n",
    "\n",
    "list1=[1,3,5,7]\n",
    "list2=[2,4,6,8]\n",
    "print(merged_sorted_list(list1,list2))"
   ]
  },
  {
   "cell_type": "markdown",
   "id": "4824af1e",
   "metadata": {},
   "source": [
    "#### 26. Implement a function to find the mode of a list of numbers.\n",
    "\n"
   ]
  },
  {
   "cell_type": "code",
   "execution_count": 60,
   "id": "11246e3a",
   "metadata": {},
   "outputs": [
    {
     "name": "stdout",
     "output_type": "stream",
     "text": [
      "Mode(s):-  [2, 4]\n"
     ]
    }
   ],
   "source": [
    "from collections import Counter\n",
    "\n",
    "def find_mode(numbers):\n",
    "    \n",
    "    counts=Counter(numbers)\n",
    "    \n",
    "    max_count=max(counts.values())\n",
    "    \n",
    "    modes=[num for num ,count in counts.items() if count==max_count]\n",
    "    \n",
    "    return modes\n",
    "\n",
    "numbers=[1,2,3,4,2,2,5,4,4,5]\n",
    "print(\"Mode(s):- \",find_mode(numbers))"
   ]
  },
  {
   "cell_type": "markdown",
   "id": "2cb0937f",
   "metadata": {},
   "source": [
    "#### 27. Write a program to find the greatest common divisor (GCD) of two numbers.\n"
   ]
  },
  {
   "cell_type": "code",
   "execution_count": 61,
   "id": "526fc407",
   "metadata": {},
   "outputs": [
    {
     "name": "stdout",
     "output_type": "stream",
     "text": [
      "GCD of  54 and 24 is  6\n"
     ]
    }
   ],
   "source": [
    "def gcd(a,b):\n",
    "    while b != 0:\n",
    "        a,b=b,a%b\n",
    "    return a\n",
    "\n",
    "num1=54\n",
    "num2=24\n",
    "print(\"GCD of \",num1, \"and\" , num2 ,\"is \" , gcd(num1,num2))"
   ]
  },
  {
   "cell_type": "markdown",
   "id": "2c24371a",
   "metadata": {},
   "source": [
    "#### 28. Implement a function to calculate the square root of a given number.\n",
    "\n"
   ]
  },
  {
   "cell_type": "code",
   "execution_count": 63,
   "id": "bbab8b13",
   "metadata": {},
   "outputs": [
    {
     "name": "stdout",
     "output_type": "stream",
     "text": [
      "Square root of num:-  6.0\n"
     ]
    }
   ],
   "source": [
    "import math\n",
    "\n",
    "def calculate_square_root(number):\n",
    "    if number<0:\n",
    "        return \"Square root is not defined for negative numbers.\"\n",
    "    else:\n",
    "        return math.sqrt(number)\n",
    "    \n",
    "print(\"Square root of num:- \",calculate_square_root(36))"
   ]
  },
  {
   "cell_type": "markdown",
   "id": "7b80c456",
   "metadata": {},
   "source": [
    "#### 29. Write a Python program to check if a given string is a valid palindrome ignoring non-alphanumeric characters.\n",
    "\n"
   ]
  },
  {
   "cell_type": "code",
   "execution_count": 64,
   "id": "88236de2",
   "metadata": {},
   "outputs": [
    {
     "name": "stdout",
     "output_type": "stream",
     "text": [
      "True\n",
      "True\n",
      "False\n"
     ]
    }
   ],
   "source": [
    "import re\n",
    "\n",
    "def is_valid_palindrome(string):\n",
    "    \n",
    "    cleaned_string = re.sub(r'[^a-zA-Z0-9]','',string.lower())\n",
    "    \n",
    "    return cleaned_string==cleaned_string[::-1]\n",
    "\n",
    "string1=\"A man, a plan, a canal, Panama!\"\n",
    "string2=\"Race Car\"\n",
    "string3=\"Hello, World!\"\n",
    "\n",
    "print(is_valid_palindrome(string1))\n",
    "print(is_valid_palindrome(string2))\n",
    "print(is_valid_palindrome(string3))"
   ]
  },
  {
   "cell_type": "markdown",
   "id": "ff3abf99",
   "metadata": {},
   "source": [
    "#### 30. Implement a function to find the minimum element in a rotated sorted list.\n",
    "\n"
   ]
  },
  {
   "cell_type": "code",
   "execution_count": 65,
   "id": "842fdbc4",
   "metadata": {},
   "outputs": [
    {
     "name": "stdout",
     "output_type": "stream",
     "text": [
      "1\n"
     ]
    }
   ],
   "source": [
    "def find_minimum_element(rotated_lst):\n",
    "    return min(rotated_lst)\n",
    "\n",
    "rotated_lst=[4, 5, 6, 7, 10, 1, 2]\n",
    "\n",
    "print(find_minimum_element(rotated_lst))"
   ]
  },
  {
   "cell_type": "markdown",
   "id": "30d32ca7",
   "metadata": {},
   "source": [
    "#### 31. Write a program to find the sum of all even numbers in a list.\n",
    "\n"
   ]
  },
  {
   "cell_type": "code",
   "execution_count": 66,
   "id": "397929c5",
   "metadata": {},
   "outputs": [
    {
     "name": "stdout",
     "output_type": "stream",
     "text": [
      "Sum of Even Number:-  30\n"
     ]
    }
   ],
   "source": [
    "def sum_even_numbers(input_lst):\n",
    "    \n",
    "    sum_even=0\n",
    "    \n",
    "    for num in input_lst:\n",
    "        if num%2==0:\n",
    "            sum_even=sum_even+num\n",
    "            \n",
    "    return sum_even\n",
    "\n",
    "input_list=[1, 2, 3, 4, 5, 6, 7, 8, 9, 10]\n",
    "\n",
    "print(\"Sum of Even Number:- \",sum_even_numbers(input_list))"
   ]
  },
  {
   "cell_type": "markdown",
   "id": "d2aeb7e7",
   "metadata": {},
   "source": [
    "#### 32. Implement a function to calculate the power of a number using recursion.\n"
   ]
  },
  {
   "cell_type": "code",
   "execution_count": 67,
   "id": "a13e33de",
   "metadata": {},
   "outputs": [
    {
     "name": "stdout",
     "output_type": "stream",
     "text": [
      "Result:-  8\n"
     ]
    }
   ],
   "source": [
    "def power(base, exponent):\n",
    "    if exponent==0:\n",
    "        return 1\n",
    "    else:\n",
    "        return base*power(base,exponent-1)\n",
    "    \n",
    "base=2\n",
    "exponent=3\n",
    "\n",
    "print(\"Result:- \",power(base,exponent))"
   ]
  },
  {
   "cell_type": "markdown",
   "id": "c4428276",
   "metadata": {},
   "source": [
    "#### 33. Write a Python program to remove duplicates from a list while preserving the order.\n",
    "\n"
   ]
  },
  {
   "cell_type": "code",
   "execution_count": 68,
   "id": "2caf2337",
   "metadata": {},
   "outputs": [
    {
     "name": "stdout",
     "output_type": "stream",
     "text": [
      "List with duplicated removed:-  [1, 2, 3, 4, 5]\n"
     ]
    }
   ],
   "source": [
    "def remove_duplicates(lst):\n",
    "    unique_list=[]\n",
    "    \n",
    "    for item in lst:\n",
    "        if item not in unique_list:\n",
    "            unique_list.append(item)\n",
    "            \n",
    "    return unique_list\n",
    "\n",
    "my_list=[1,2,3,2,4,3,5,1]\n",
    "print(\"List with duplicated removed:- \",remove_duplicates(my_list))"
   ]
  },
  {
   "cell_type": "markdown",
   "id": "03ef9e5b",
   "metadata": {},
   "source": [
    "#### 34. Implement a function to find the longest common prefix among a list of strings.\n"
   ]
  },
  {
   "cell_type": "code",
   "execution_count": 69,
   "id": "e3b7657c",
   "metadata": {},
   "outputs": [
    {
     "name": "stdout",
     "output_type": "stream",
     "text": [
      "Longest Common Prefix:-  fl\n"
     ]
    }
   ],
   "source": [
    "def longest_common_prefix(strings):\n",
    "    if not strings:\n",
    "        return \"\"\n",
    "    \n",
    "    prefix=\"\"\n",
    "    for chars in zip(*strings):\n",
    "        if len(set(chars))==1:\n",
    "            prefix=prefix+chars[0]\n",
    "        else:\n",
    "            break\n",
    "            \n",
    "    return prefix\n",
    "\n",
    "string_list=[\"flower\",\"flow\",\"flight\"]\n",
    "\n",
    "print(\"Longest Common Prefix:- \",longest_common_prefix(string_list))"
   ]
  },
  {
   "cell_type": "markdown",
   "id": "9f17f941",
   "metadata": {},
   "source": [
    "#### 35. Write a program to check if a given number is a perfect square.\n",
    "\n"
   ]
  },
  {
   "cell_type": "code",
   "execution_count": 70,
   "id": "8d7b92f1",
   "metadata": {},
   "outputs": [
    {
     "name": "stdout",
     "output_type": "stream",
     "text": [
      "Is A perfect Square:-  True\n"
     ]
    }
   ],
   "source": [
    "import math\n",
    "\n",
    "def is_perfect_square(number):\n",
    "    square_root=math.isqrt(number)\n",
    "    \n",
    "    return square_root*square_root==number\n",
    "\n",
    "num=16\n",
    "print(\"Is A perfect Square:- \",is_perfect_square(num))"
   ]
  },
  {
   "cell_type": "markdown",
   "id": "9cb17e17",
   "metadata": {},
   "source": [
    "#### 36. Implement a function to calculate the product of all elements in a list.\n",
    "\n"
   ]
  },
  {
   "cell_type": "code",
   "execution_count": 71,
   "id": "6ac80002",
   "metadata": {},
   "outputs": [
    {
     "name": "stdout",
     "output_type": "stream",
     "text": [
      "Product Of all Elements:-  720\n"
     ]
    }
   ],
   "source": [
    "def calculate_product(lst):\n",
    "    product=1\n",
    "    for num in lst:\n",
    "        product=product*num\n",
    "    return product\n",
    "\n",
    "input_list=[1,2,3,4,5,6]\n",
    "print(\"Product Of all Elements:- \",calculate_product(input_list))\n",
    "        "
   ]
  },
  {
   "cell_type": "markdown",
   "id": "434ce764",
   "metadata": {},
   "source": [
    "#### 37. Write a Python program to reverse the order of words in a sentence while preserving the word order.\n"
   ]
  },
  {
   "cell_type": "code",
   "execution_count": 72,
   "id": "6e8922a2",
   "metadata": {},
   "outputs": [
    {
     "name": "stdout",
     "output_type": "stream",
     "text": [
      "you are How Milind Hello\n"
     ]
    }
   ],
   "source": [
    "def reverse_sentence(sentence):\n",
    "    words=sentence.split()\n",
    "    reversed_words=words[::-1]\n",
    "    reverse_sentence=\" \".join(reversed_words)\n",
    "    return reverse_sentence\n",
    "\n",
    "input_sentence=\"Hello Milind How are you\"\n",
    "print(reverse_sentence(input_sentence))"
   ]
  },
  {
   "cell_type": "markdown",
   "id": "9974b534",
   "metadata": {},
   "source": [
    "#### 38. Implement a function to find the missing number in a given list of consecutive numbers."
   ]
  },
  {
   "cell_type": "code",
   "execution_count": 73,
   "id": "8e65c1ef",
   "metadata": {},
   "outputs": [
    {
     "name": "stdout",
     "output_type": "stream",
     "text": [
      "4\n"
     ]
    }
   ],
   "source": [
    "\n",
    "def find_missing_number(lst):\n",
    "    n=len(lst)+1\n",
    "    \n",
    "    total_sum=(n*(n+1)//2)\n",
    "    \n",
    "    actual_sum=sum(lst)\n",
    "    \n",
    "    missing_number=total_sum-actual_sum\n",
    "    \n",
    "    return missing_number\n",
    "\n",
    "input_list=[1,2,3,5,6]\n",
    "print(find_missing_number(input_list))"
   ]
  },
  {
   "cell_type": "markdown",
   "id": "bc619751",
   "metadata": {},
   "source": [
    "#### 39. Write a program to find the sum of digits of a given number\n",
    "\n"
   ]
  },
  {
   "cell_type": "code",
   "execution_count": 74,
   "id": "72e1ec07",
   "metadata": {},
   "outputs": [
    {
     "name": "stdout",
     "output_type": "stream",
     "text": [
      "15\n"
     ]
    }
   ],
   "source": [
    "def sum_digit(number):\n",
    "    number_str = str(number)\n",
    "    digit_sum = 0\n",
    "    for digit in number_str:\n",
    "        digit_sum=digit_sum+int(digit)\n",
    "    return digit_sum\n",
    "number=12345\n",
    "print(sum_digit(number))"
   ]
  },
  {
   "cell_type": "markdown",
   "id": "cd963d13",
   "metadata": {},
   "source": [
    "#### 40. Implement a function to check if a given string is a valid palindrome considering case sensitivity.\n"
   ]
  },
  {
   "cell_type": "code",
   "execution_count": 75,
   "id": "97dfee72",
   "metadata": {},
   "outputs": [
    {
     "name": "stdout",
     "output_type": "stream",
     "text": [
      "True\n"
     ]
    }
   ],
   "source": [
    "def valid_palindrome(string):\n",
    "    cleaned_string=\"\".join(char.lower() for char in string if char.isalnum())\n",
    "    \n",
    "    return cleaned_string==cleaned_string[::-1]\n",
    "\n",
    "input_string='A man, a plan, a canal:Panama'\n",
    "print(valid_palindrome(input_string))"
   ]
  },
  {
   "cell_type": "markdown",
   "id": "f6a59f00",
   "metadata": {},
   "source": [
    "#### 41. Write a Python program to find the smallest missing positive integer in a list.\n"
   ]
  },
  {
   "cell_type": "code",
   "execution_count": 76,
   "id": "c0bbdea5",
   "metadata": {},
   "outputs": [
    {
     "name": "stdout",
     "output_type": "stream",
     "text": [
      "6\n"
     ]
    }
   ],
   "source": [
    "def find_smallest_missing_postive(nums):\n",
    "    positives=set(num for num in nums if num>0)\n",
    "    \n",
    "    smallest_missing=1\n",
    "    \n",
    "    while smallest_missing in positives:\n",
    "        smallest_missing=smallest_missing+1\n",
    "        \n",
    "    return smallest_missing\n",
    "\n",
    "numbers=[3,5,-1,1,2,4]\n",
    "\n",
    "print(find_smallest_missing_postive(numbers))"
   ]
  },
  {
   "cell_type": "markdown",
   "id": "aebd1d9b",
   "metadata": {},
   "source": [
    "#### 42. Implement a function to find the longest palindrome substring in a given string.\n",
    "\n"
   ]
  },
  {
   "cell_type": "code",
   "execution_count": 77,
   "id": "183d39c1",
   "metadata": {},
   "outputs": [
    {
     "name": "stdout",
     "output_type": "stream",
     "text": [
      "bab\n"
     ]
    }
   ],
   "source": [
    "def longest_palindrome_substring(string):\n",
    "    longest = \"\"\n",
    "\n",
    "    for i in range(len(string)):\n",
    "        # Check for odd-length palindromes\n",
    "        left = right = i\n",
    "        while left >= 0 and right < len(string) and string[left] == string[right]:\n",
    "            left -= 1\n",
    "            right += 1\n",
    "        odd_palindrome = string[left + 1:right]\n",
    "\n",
    "        # Check for even-length palindromes\n",
    "        left = i\n",
    "        right = i + 1\n",
    "        while left >= 0 and right < len(string) and string[left] == string[right]:\n",
    "            left -= 1\n",
    "            right += 1\n",
    "        even_palindrome = string[left + 1:right]\n",
    "\n",
    "        # Update longest palindrome found\n",
    "        if len(odd_palindrome) > len(longest):\n",
    "            longest = odd_palindrome\n",
    "        if len(even_palindrome) > len(longest):\n",
    "            longest = even_palindrome\n",
    "\n",
    "    return longest\n",
    "\n",
    "\n",
    "input_string = \"babad\"\n",
    "print(longest_palindrome_substring(input_string))"
   ]
  },
  {
   "cell_type": "markdown",
   "id": "c594a7f3",
   "metadata": {},
   "source": [
    "#### 43. Write a program to find the number of occurrences of a given element in a list.\n",
    "\n"
   ]
  },
  {
   "cell_type": "code",
   "execution_count": 78,
   "id": "a888f1ff",
   "metadata": {},
   "outputs": [
    {
     "name": "stdout",
     "output_type": "stream",
     "text": [
      "6\n"
     ]
    }
   ],
   "source": [
    "def count_occurances(lst,element):\n",
    "    count=0\n",
    "    \n",
    "    for item in lst:\n",
    "        if item == element:\n",
    "            count +=1\n",
    "    return count\n",
    "\n",
    "number=[1,2,3,4,2,2,5,2,2,2]\n",
    "element=2\n",
    "\n",
    "print(count_occurances(number,element))\n"
   ]
  },
  {
   "cell_type": "markdown",
   "id": "c18bdc6a",
   "metadata": {},
   "source": [
    "#### 44. Implement a function to check if a given number is a perfect number.\n"
   ]
  },
  {
   "cell_type": "code",
   "execution_count": 79,
   "id": "e2201003",
   "metadata": {},
   "outputs": [
    {
     "name": "stdout",
     "output_type": "stream",
     "text": [
      "True\n"
     ]
    }
   ],
   "source": [
    "def is_perfect_number(number):\n",
    "    if number<=0:\n",
    "        return False\n",
    "    \n",
    "    divisor_sum=0\n",
    "    for i in range(1,number):\n",
    "        if number % i==0:\n",
    "            divisor_sum +=i\n",
    "    return divisor_sum==number\n",
    "\n",
    "input_number=28\n",
    "\n",
    "print(is_perfect_number(input_number))"
   ]
  },
  {
   "cell_type": "markdown",
   "id": "4abaef6b",
   "metadata": {},
   "source": [
    "#### 45. Write a Python program to remove all duplicates from a string."
   ]
  },
  {
   "cell_type": "code",
   "execution_count": 80,
   "id": "9abe1aea",
   "metadata": {},
   "outputs": [
    {
     "name": "stdout",
     "output_type": "stream",
     "text": [
      "Helo, Wrd!\n"
     ]
    }
   ],
   "source": [
    "\n",
    "def remove_duplicates(string):\n",
    "    unique_chars=[]\n",
    "    for char in string:\n",
    "        if char not in unique_chars:\n",
    "            unique_chars.append(char)\n",
    "            \n",
    "    return \"\".join(unique_chars)\n",
    "\n",
    "input_string=\"Hello, World!\"\n",
    "print(remove_duplicates(input_string))"
   ]
  },
  {
   "cell_type": "markdown",
   "id": "0d20a87e",
   "metadata": {},
   "source": [
    "#### 46. Implement a function to find the first missing positive\n",
    "\n"
   ]
  },
  {
   "cell_type": "code",
   "execution_count": 81,
   "id": "c4b3bd5b",
   "metadata": {},
   "outputs": [
    {
     "name": "stdout",
     "output_type": "stream",
     "text": [
      "2\n"
     ]
    }
   ],
   "source": [
    "def find_first_missing_positive(nums):\n",
    "    nums_set=set(nums)\n",
    "    n=len(nums)\n",
    "    \n",
    "    for i in range(1,n+2):\n",
    "        if i not in nums_set:\n",
    "            return i\n",
    "numbers = [3, 4, -1, 1]\n",
    "print(find_first_missing_positive(numbers))"
   ]
  },
  {
   "cell_type": "code",
   "execution_count": null,
   "id": "ad521856",
   "metadata": {},
   "outputs": [],
   "source": []
  }
 ],
 "metadata": {
  "kernelspec": {
   "display_name": "Python 3 (ipykernel)",
   "language": "python",
   "name": "python3"
  },
  "language_info": {
   "codemirror_mode": {
    "name": "ipython",
    "version": 3
   },
   "file_extension": ".py",
   "mimetype": "text/x-python",
   "name": "python",
   "nbconvert_exporter": "python",
   "pygments_lexer": "ipython3",
   "version": "3.9.13"
  }
 },
 "nbformat": 4,
 "nbformat_minor": 5
}
