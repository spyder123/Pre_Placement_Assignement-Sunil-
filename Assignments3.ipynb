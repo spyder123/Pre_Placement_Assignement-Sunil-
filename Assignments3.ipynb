{
 "cells": [
  {
   "cell_type": "code",
   "execution_count": 1,
   "id": "4d39126e",
   "metadata": {},
   "outputs": [],
   "source": [
    "import pandas as pd\n",
    "import numpy as np\n",
    "import statistics\n",
    "from scipy import stats\n",
    "import statsmodels.api as sm"
   ]
  },
  {
   "cell_type": "markdown",
   "id": "acd911ef",
   "metadata": {},
   "source": [
    "**1. Scenario: A company wants to analyze the sales performance of its products in different regions. They have collected the following data:**\n",
    "\n",
    "   Region A: [10, 15, 12, 8, 14]\n",
    "   \n",
    "   Region B: [18, 20, 16, 22, 25]\n",
    "   \n",
    "**Calculate the mean sales for each region.**"
   ]
  },
  {
   "cell_type": "code",
   "execution_count": 2,
   "id": "c31444fc",
   "metadata": {},
   "outputs": [
    {
     "name": "stdout",
     "output_type": "stream",
     "text": [
      "Mean sales for Region A: 11.8\n",
      "Mean sales for Region B: 20.2\n"
     ]
    }
   ],
   "source": [
    "region_a_sales = [10, 15, 12, 8, 14]\n",
    "region_b_sales = [18, 20, 16, 22, 25]\n",
    "\n",
    "mean_region_a = sum(region_a_sales) / len(region_a_sales)\n",
    "mean_region_b = sum(region_b_sales) / len(region_b_sales)\n",
    "\n",
    "print(\"Mean sales for Region A:\", mean_region_a)\n",
    "print(\"Mean sales for Region B:\", mean_region_b)"
   ]
  },
  {
   "cell_type": "markdown",
   "id": "8a1ccec1",
   "metadata": {},
   "source": [
    "**2. Scenario: A survey is conducted to measure customer satisfaction on a scale of 1 to 5. The data collected is as follows:**\n",
    "        \n",
    "   [4, 5, 2, 3, 5, 4, 3, 2, 4, 5]\n",
    "\n",
    "   Calculate the mode of the survey responses.\n"
   ]
  },
  {
   "cell_type": "code",
   "execution_count": 4,
   "id": "42c0fdfa",
   "metadata": {},
   "outputs": [
    {
     "name": "stdout",
     "output_type": "stream",
     "text": [
      "Mode of the survey responses: 4\n"
     ]
    }
   ],
   "source": [
    "survey_responses = [4, 5, 2, 3, 5, 4, 3, 2, 4, 5]\n",
    "\n",
    "mode_survey_responses = statistics.mode(survey_responses)\n",
    "\n",
    "print(\"Mode of the survey responses:\", mode_survey_responses)"
   ]
  },
  {
   "cell_type": "markdown",
   "id": "ab945ea1",
   "metadata": {},
   "source": [
    "**Q3. Scenario: A company wants to compare the salaries of two departments. The salary data for Department A and Department B are as follows:**\n",
    "\n",
    "Department A: [5000, 6000, 5500, 7000]\n",
    "    \n",
    "Department B: [4500, 5500, 5800, 6000, 5200]\n",
    "    \n",
    "Calculate the median salary for each department."
   ]
  },
  {
   "cell_type": "code",
   "execution_count": 5,
   "id": "81e193a6",
   "metadata": {},
   "outputs": [
    {
     "name": "stdout",
     "output_type": "stream",
     "text": [
      "Median salary for Department A: 5750.0\n",
      "Median salary for Department B: 5500\n"
     ]
    }
   ],
   "source": [
    "department_a_salaries = [5000, 6000, 5500, 7000]\n",
    "department_b_salaries = [4500, 5500, 5800, 6000, 5200]\n",
    "\n",
    "median_department_a = statistics.median(department_a_salaries)\n",
    "median_department_b = statistics.median(department_b_salaries)\n",
    "\n",
    "print(\"Median salary for Department A:\", median_department_a)\n",
    "print(\"Median salary for Department B:\", median_department_b)"
   ]
  },
  {
   "cell_type": "markdown",
   "id": "d5d193f5",
   "metadata": {},
   "source": [
    "**Q4. Scenario: A data analyst wants to determine the variability in the daily stock prices of a company. The data collected is as follows :**\n",
    "\n",
    "[25.5, 24.8, 26.1, 25.3, 24.9]\n",
    "\n",
    "Calculate the range of the stock prices."
   ]
  },
  {
   "cell_type": "code",
   "execution_count": 7,
   "id": "7707c55a",
   "metadata": {},
   "outputs": [
    {
     "name": "stdout",
     "output_type": "stream",
     "text": [
      "Range of the stock prices: 1.3\n"
     ]
    }
   ],
   "source": [
    "stock_prices = [25.5, 24.8, 26.1, 25.3, 24.9]\n",
    "\n",
    "stock_price_range = max(stock_prices) - min(stock_prices)\n",
    "\n",
    "print(\"Range of the stock prices:\",  round(stock_price_range, 2))"
   ]
  },
  {
   "cell_type": "markdown",
   "id": "c7524158",
   "metadata": {},
   "source": [
    "**Q5. Scenario: A study is conducted to compare the performance of two different teaching methods. The test scores of the students in each group are as follows:**\n",
    "\n",
    "Group A: [85, 90, 92, 88, 91]\n",
    "    \n",
    "    \n",
    "Group B: [82, 88, 90, 86, 87]\n",
    "\n",
    "Perform a t-test to determine if there is a significant difference in the mean scores between the two groups."
   ]
  },
  {
   "cell_type": "code",
   "execution_count": 10,
   "id": "0233af2a",
   "metadata": {},
   "outputs": [
    {
     "name": "stdout",
     "output_type": "stream",
     "text": [
      "T-statistic: 1.4312528946642733\n",
      "P-value: 0.19023970239078333\n",
      "There is no significant difference in the mean scores between the two groups.\n"
     ]
    }
   ],
   "source": [
    "group_a_scores = [85, 90, 92, 88, 91]\n",
    "group_b_scores = [82, 88, 90, 86, 87]\n",
    "\n",
    "t_statistic, p_value = stats.ttest_ind(group_a_scores, group_b_scores)\n",
    "\n",
    "alpha = 0.05\n",
    "\n",
    "print(\"T-statistic:\",  t_statistic)\n",
    "print(\"P-value:\",  p_value)\n",
    "\n",
    "if p_value < alpha:\n",
    "    print(\"There is a significant difference in the mean scores between the two groups.\")\n",
    "    \n",
    "else:\n",
    "    print(\"There is no significant difference in the mean scores between the two groups.\")"
   ]
  },
  {
   "cell_type": "markdown",
   "id": "ae5be29c",
   "metadata": {},
   "source": [
    "**Q6. Scenario: A company wants to analyze the relationship between advertising expenditure and sales. The data collected is as follows:**\n",
    "\n",
    "Advertising Expenditure (in thousands): [10, 15, 12, 8, 14]\n",
    "\n",
    "Sales (in thousands): [25, 30, 28, 20, 26]\n",
    "\n",
    "Calculate the correlation coefficient between advertising expenditure and sales."
   ]
  },
  {
   "cell_type": "code",
   "execution_count": 11,
   "id": "cbae0f7e",
   "metadata": {},
   "outputs": [
    {
     "name": "stdout",
     "output_type": "stream",
     "text": [
      "Correlation coefficient: 0.88\n"
     ]
    }
   ],
   "source": [
    "advertising_expenditure = [10, 15, 12, 8, 14]\n",
    "sales = [25, 30, 28, 20, 26]\n",
    "\n",
    "correlation_coefficient = np.corrcoef(advertising_expenditure, sales)[0, 1]\n",
    "\n",
    "print(\"Correlation coefficient:\", round(correlation_coefficient, 2))"
   ]
  },
  {
   "cell_type": "markdown",
   "id": "0a73f21a",
   "metadata": {},
   "source": [
    "**Q7. Scenario: A survey is conducted to measure the heights of a group of people. The data collected is as follows:**\n",
    "\n",
    "[160, 170, 165, 155, 175, 180, 170]\n",
    "\n",
    "Calculate the standard deviation of the heights."
   ]
  },
  {
   "cell_type": "code",
   "execution_count": 12,
   "id": "4c95d32b",
   "metadata": {},
   "outputs": [
    {
     "name": "stdout",
     "output_type": "stream",
     "text": [
      "Standard deviation of heights: 8.59\n"
     ]
    }
   ],
   "source": [
    "heights = [160, 170, 165, 155, 175, 180, 170]\n",
    "\n",
    "heights_std_dev = statistics.stdev(heights)\n",
    "\n",
    "print(\"Standard deviation of heights:\", round(heights_std_dev, 2))"
   ]
  },
  {
   "cell_type": "markdown",
   "id": "f943fd5b",
   "metadata": {},
   "source": [
    "**Q8. Scenario: A company wants to analyze the relationship between employee tenure and job satisfaction. The data collected is as follows:**\n",
    "\n",
    "Employee Tenure (in years): [2, 3, 5, 4, 6, 2, 4]\n",
    "    \n",
    "Job Satisfaction (on a scale of 1 to 10): [7, 8, 6, 9, 5, 7, 6]\n",
    "    \n",
    "Perform a linear regression analysis to predict job satisfaction based on employee tenure."
   ]
  },
  {
   "cell_type": "code",
   "execution_count": 13,
   "id": "40cc9868",
   "metadata": {},
   "outputs": [
    {
     "name": "stdout",
     "output_type": "stream",
     "text": [
      "Slope: -0.4680851063829787\n",
      "Intercept: 8.595744680851062\n",
      "Correlation coefficient: -0.520573376708331\n",
      "P-value: 0.23095550952297988\n",
      "Standard error: 0.34333860006713723\n"
     ]
    }
   ],
   "source": [
    "employee_tenure = [2, 3, 5, 4, 6, 2, 4]\n",
    "job_satisfaction = [7, 8, 6, 9, 5, 7, 6]\n",
    "\n",
    "slope, intercept, r_value, p_value, std_err = stats.linregress(employee_tenure, job_satisfaction)\n",
    "\n",
    "print(\"Slope:\", slope)\n",
    "print(\"Intercept:\", intercept)\n",
    "print(\"Correlation coefficient:\", r_value)\n",
    "print(\"P-value:\", p_value)\n",
    "print(\"Standard error:\", std_err)"
   ]
  },
  {
   "cell_type": "markdown",
   "id": "95163f75",
   "metadata": {},
   "source": [
    "**Q9. Scenario: A study is conducted to compare the effectiveness of two different medications. The recovery times of the patients in each group are as follows:**\n",
    "\n",
    "Medication A: [10, 12, 14, 11, 13]\n",
    "\n",
    "Medication B: [15, 17, 16, 14, 18]\n",
    "\n",
    "Perform an analysis of variance (ANOVA) to determine if there is a significant difference in the mean recovery times between the two medications."
   ]
  },
  {
   "cell_type": "code",
   "execution_count": 14,
   "id": "eb6dd395",
   "metadata": {},
   "outputs": [
    {
     "name": "stdout",
     "output_type": "stream",
     "text": [
      "F-statistic: 16.0\n",
      "P-value: 0.003949772803445326\n",
      "There is a significant difference in the mean recovery times between the two medications.\n"
     ]
    }
   ],
   "source": [
    "medication_a_recovery_times = [10, 12, 14, 11, 13]\n",
    "medication_b_recovery_times = [15, 17, 16, 14, 18]\n",
    "\n",
    "f_statistic, p_value = stats.f_oneway(medication_a_recovery_times, medication_b_recovery_times)\n",
    "\n",
    "alpha = 0.05\n",
    "\n",
    "print(\"F-statistic:\", f_statistic)\n",
    "print(\"P-value:\", p_value)\n",
    "\n",
    "if p_value < alpha:\n",
    "    print(\"There is a significant difference in the mean recovery times between the two medications.\")\n",
    "else:\n",
    "    print(\"There is no significant difference in the mean recovery times between the two medications.\")"
   ]
  },
  {
   "cell_type": "markdown",
   "id": "7e15e94b",
   "metadata": {},
   "source": [
    "**Q10. Scenario: A company wants to analyze customer feedback ratings on a scale of 1 to 10. The data collected is as follows:**\n",
    "\n",
    "[8, 9, 7, 6, 8, 10, 9, 8, 7, 8]\n",
    "\n",
    "Calculate the 75th percentile of the feedback ratings."
   ]
  },
  {
   "cell_type": "code",
   "execution_count": 15,
   "id": "33b7ee2a",
   "metadata": {},
   "outputs": [
    {
     "name": "stdout",
     "output_type": "stream",
     "text": [
      "75th percentile of the feedback ratings: 8.75\n"
     ]
    }
   ],
   "source": [
    "feedback_ratings = [8, 9, 7, 6, 8, 10, 9, 8, 7, 8]\n",
    "\n",
    "percentile_75th = np.percentile(feedback_ratings, 75)\n",
    "\n",
    "print(\"75th percentile of the feedback ratings:\", percentile_75th)"
   ]
  },
  {
   "cell_type": "markdown",
   "id": "a22d99ec",
   "metadata": {},
   "source": [
    "**Q11. Scenario: A quality control department wants to test the weight consistency of a product. The weights of a sample of products are as follows:**\n",
    "\n",
    "[10.2, 9.8, 10.0, 10.5, 10.3, 10.1]\n",
    "\n",
    "Perform a hypothesis test to determine if the mean weight differs significantly from 10 grams."
   ]
  },
  {
   "cell_type": "code",
   "execution_count": 16,
   "id": "4b43d9cd",
   "metadata": {},
   "outputs": [
    {
     "name": "stdout",
     "output_type": "stream",
     "text": [
      "T-statistic: 1.5126584522688367\n",
      "P-value: 0.19077595151110102\n",
      "The mean weight does not significantly differ from 10 grams.\n"
     ]
    }
   ],
   "source": [
    "weights = [10.2, 9.8, 10.0, 10.5, 10.3, 10.1]\n",
    "\n",
    "t_statistic, p_value = stats.ttest_1samp(weights, 10)\n",
    "\n",
    "alpha = 0.05\n",
    "\n",
    "print(\"T-statistic:\", t_statistic)\n",
    "print(\"P-value:\", p_value)\n",
    "\n",
    "if p_value < alpha:\n",
    "    print(\"The mean weight significantly differs from 10 grams.\")\n",
    "else:\n",
    "    print(\"The mean weight does not significantly differ from 10 grams.\")"
   ]
  },
  {
   "cell_type": "code",
   "execution_count": 17,
   "id": "137968ea",
   "metadata": {},
   "outputs": [
    {
     "name": "stdout",
     "output_type": "stream",
     "text": [
      "Chi-square statistic: 6.110658166925435\n",
      "P-value: 0.19103526314060293\n",
      "There is no significant difference in the click-through rates between the two designs.\n"
     ]
    }
   ],
   "source": [
    "design_a_clicks = [100, 120, 110, 90, 95]\n",
    "design_b_clicks = [80, 85, 90, 95, 100]\n",
    "\n",
    "observed = [design_a_clicks, design_b_clicks]\n",
    "\n",
    "chi2_statistic, p_value, _, _ = stats.chi2_contingency(observed)\n",
    "\n",
    "alpha = 0.05\n",
    "\n",
    "print(\"Chi-square statistic:\", chi2_statistic)\n",
    "print(\"P-value:\", p_value)\n",
    "\n",
    "if p_value < alpha:\n",
    "    print(\"There is a significant difference in the click-through rates between the two designs.\")\n",
    "else:\n",
    "    print(\"There is no significant difference in the click-through rates between the two designs.\")"
   ]
  },
  {
   "cell_type": "markdown",
   "id": "49527ce2",
   "metadata": {},
   "source": [
    "**Q13. Scenario: A survey is conducted to measure customer satisfaction with a product on a scale of 1 to 10. The data collected is as follows:**\n",
    "\n",
    "[7, 9, 6, 8, 10, 7, 8, 9, 7, 8]\n",
    "\n",
    "Calculate the 95% confidence interval for the population mean satisfaction score."
   ]
  },
  {
   "cell_type": "code",
   "execution_count": 18,
   "id": "5eb54de2",
   "metadata": {},
   "outputs": [
    {
     "name": "stdout",
     "output_type": "stream",
     "text": [
      "95% Confidence Interval: (7.043561120599888, 8.756438879400113)\n"
     ]
    }
   ],
   "source": [
    "satisfaction_scores = [7, 9, 6, 8, 10, 7, 8, 9, 7, 8]\n",
    "\n",
    "confidence_level = 0.95\n",
    "sample_mean = np.mean(satisfaction_scores)\n",
    "sample_size = len(satisfaction_scores)\n",
    "standard_error = stats.sem(satisfaction_scores)\n",
    "\n",
    "confidence_interval = stats.t.interval(confidence_level, df=sample_size-1, loc=sample_mean, scale=standard_error)\n",
    "\n",
    "print(\"95% Confidence Interval:\", confidence_interval)"
   ]
  },
  {
   "cell_type": "markdown",
   "id": "5e743406",
   "metadata": {},
   "source": [
    "**Q14. Scenario: A company wants to analyze the effect of temperature on product performance. The data collected is as follows:**\n",
    "\n",
    "Temperature (in degrees Celsius): [20, 22, 23, 19, 21]\n",
    "    \n",
    "Performance (on a scale of 1 to 10): [8, 7, 9, 6, 8]\n",
    "    \n",
    "Perform a simple linear regression to predict performance based on temperature."
   ]
  },
  {
   "cell_type": "code",
   "execution_count": 19,
   "id": "386a9b6f",
   "metadata": {},
   "outputs": [
    {
     "name": "stdout",
     "output_type": "stream",
     "text": [
      "Slope: 0.5\n",
      "Intercept: -2.9000000000000004\n",
      "Correlation coefficient: 0.6933752452815364\n",
      "P-value: 0.19417134561205843\n",
      "Standard error: 0.30000000000000004\n"
     ]
    }
   ],
   "source": [
    "temperature = [20, 22, 23, 19, 21]\n",
    "performance = [8, 7, 9, 6, 8]\n",
    "\n",
    "slope, intercept, r_value, p_value, std_err = stats.linregress(temperature, performance)\n",
    "\n",
    "print(\"Slope:\", slope)\n",
    "print(\"Intercept:\", intercept)\n",
    "print(\"Correlation coefficient:\", r_value)\n",
    "print(\"P-value:\", p_value)\n",
    "print(\"Standard error:\", std_err)"
   ]
  },
  {
   "cell_type": "markdown",
   "id": "3236d0d2",
   "metadata": {},
   "source": [
    "**Q15. Scenario: A study is conducted to compare the preferences of two groups of participants. The preferences are measured on a Likert scale from 1 to 5. The data collected is as follows:**\n",
    "\n",
    "Group A: [4, 3, 5, 2, 4]\n",
    "    \n",
    "    \n",
    "Group B: [3, 2, 4, 3, 3]\n",
    "\n",
    "Perform a Mann-Whitney U test to determine if there is a significant difference in the median preferences between the two groups."
   ]
  },
  {
   "cell_type": "code",
   "execution_count": 21,
   "id": "209d01c3",
   "metadata": {},
   "outputs": [
    {
     "name": "stdout",
     "output_type": "stream",
     "text": [
      "Mann-Whitney U statistic: 17.0\n",
      "P-value: 0.380836480306712\n",
      "There is no significant difference in the median preferences between the two groups.\n"
     ]
    }
   ],
   "source": [
    "group_a_preferences = [4, 3, 5, 2, 4]\n",
    "group_b_preferences = [3, 2, 4, 3, 3]\n",
    "\n",
    "statistic, p_value = stats.mannwhitneyu(group_a_preferences, group_b_preferences)\n",
    "\n",
    "alpha = 0.05\n",
    "\n",
    "print(\"Mann-Whitney U statistic:\", statistic)\n",
    "print(\"P-value:\", p_value)\n",
    "\n",
    "if p_value < alpha:\n",
    "    print(\"There is a significant difference in the median preferences between the two groups.\")\n",
    "else:\n",
    "    print(\"There is no significant difference in the median preferences between the two groups.\")"
   ]
  },
  {
   "cell_type": "markdown",
   "id": "ea00130d",
   "metadata": {},
   "source": [
    "**Q16. Scenario: A company wants to analyze the distribution of customer ages. The data collected is as follows:**\n",
    "\n",
    "[25, 30, 35, 40, 45, 50, 55, 60, 65, 70]\n",
    "\n",
    "Calculate the interquartile range (IQR) of the ages."
   ]
  },
  {
   "cell_type": "code",
   "execution_count": 23,
   "id": "f3d4b910",
   "metadata": {},
   "outputs": [
    {
     "name": "stdout",
     "output_type": "stream",
     "text": [
      "Interquartile Range (IQR) of ages: 22.5\n"
     ]
    }
   ],
   "source": [
    "ages = [25, 30, 35, 40, 45, 50, 55, 60, 65, 70]\n",
    "\n",
    "q1 = np.percentile(ages, 25)\n",
    "q3 = np.percentile(ages, 75)\n",
    "\n",
    "iqr = q3 - q1\n",
    "\n",
    "print(\"Interquartile Range (IQR) of ages:\", iqr)"
   ]
  },
  {
   "cell_type": "markdown",
   "id": "7f179a2b",
   "metadata": {},
   "source": [
    "**Q17. Scenario: A study is conducted to compare the performance of three different machine learning algorithms. The accuracy scores for each algorithm are as follows:**\n",
    "\n",
    "Algorithm A: [0.85, 0.80, 0.82, 0.87, 0.83]\n",
    "    \n",
    "Algorithm B: [0.78, 0.82, 0.84, 0.80, 0.79]\n",
    "    \n",
    "Algorithm C: [0.90, 0.88, 0.89, 0.86, 0.87]\n",
    "    \n",
    "Perform a Kruskal-Wallis test to determine if there is a significant difference in the median accuracy scores between the algorithms."
   ]
  },
  {
   "cell_type": "code",
   "execution_count": 24,
   "id": "d41068f0",
   "metadata": {},
   "outputs": [
    {
     "name": "stdout",
     "output_type": "stream",
     "text": [
      "Kruskal-Wallis statistic: 9.696947935368053\n",
      "P-value: 0.007840333026249539\n",
      "There is a significant difference in the median accuracy scores between the algorithms.\n"
     ]
    }
   ],
   "source": [
    "algorithm_a_scores = [0.85, 0.80, 0.82, 0.87, 0.83]\n",
    "algorithm_b_scores = [0.78, 0.82, 0.84, 0.80, 0.79]\n",
    "algorithm_c_scores = [0.90, 0.88, 0.89, 0.86, 0.87]\n",
    "\n",
    "statistic, p_value = stats.kruskal(algorithm_a_scores, algorithm_b_scores, algorithm_c_scores)\n",
    "\n",
    "alpha = 0.05\n",
    "\n",
    "print(\"Kruskal-Wallis statistic:\", statistic)\n",
    "print(\"P-value:\", p_value)\n",
    "\n",
    "if p_value < alpha:\n",
    "    print(\"There is a significant difference in the median accuracy scores between the algorithms.\")\n",
    "else:\n",
    "    print(\"There is no significant difference in the median accuracy scores between the algorithms.\")"
   ]
  },
  {
   "cell_type": "markdown",
   "id": "a8e1ae43",
   "metadata": {},
   "source": [
    "**Q18. Scenario: A company wants to analyze the effect of price on sales. The data collected is as follows:**\n",
    "\n",
    "Price (in dollars): [10, 15, 12, 8, 14]\n",
    "    \n",
    "Sales: [100, 80, 90, 110, 95]\n",
    "    \n",
    "Perform a simple linear regression to predict sales based on price."
   ]
  },
  {
   "cell_type": "code",
   "execution_count": 25,
   "id": "b75e9acc",
   "metadata": {},
   "outputs": [
    {
     "name": "stdout",
     "output_type": "stream",
     "text": [
      "Slope: -3.506097560975609\n",
      "Intercept: 136.3719512195122\n",
      "Correlation coefficient: -0.8979991308594848\n",
      "P-value: 0.03850178234753776\n",
      "Standard error: 0.9918303504036147\n"
     ]
    }
   ],
   "source": [
    "price = [10, 15, 12, 8, 14]\n",
    "sales = [100, 80, 90, 110, 95]\n",
    "\n",
    "slope, intercept, r_value, p_value, std_err = stats.linregress(price, sales)\n",
    "\n",
    "print(\"Slope:\", slope)\n",
    "print(\"Intercept:\", intercept)\n",
    "print(\"Correlation coefficient:\", r_value)\n",
    "print(\"P-value:\", p_value)\n",
    "print(\"Standard error:\", std_err)"
   ]
  },
  {
   "cell_type": "markdown",
   "id": "62f318d5",
   "metadata": {},
   "source": [
    "#### 19. Scenario: A survey is conducted to measure the satisfaction levels of customers with a new product. The data collected is as follows:\n",
    "\n",
    "[7, 8, 9, 6, 8, 7, 9, 7, 8, 7]\n",
    "\n",
    "Calculate the standard error of the mean satisfaction score."
   ]
  },
  {
   "cell_type": "code",
   "execution_count": 26,
   "id": "01f7d3c7",
   "metadata": {},
   "outputs": [
    {
     "name": "stdout",
     "output_type": "stream",
     "text": [
      "Standard error of the mean satisfaction score: 0.28982753492378877\n"
     ]
    }
   ],
   "source": [
    "satisfaction_scores = [7, 8, 9, 6, 8, 7, 9, 7, 8, 7]\n",
    "\n",
    "standard_deviation = np.std(satisfaction_scores)\n",
    "sample_size = len(satisfaction_scores)\n",
    "\n",
    "standard_error = standard_deviation / np.sqrt(sample_size)\n",
    "\n",
    "print(\"Standard error of the mean satisfaction score:\", standard_error)"
   ]
  },
  {
   "cell_type": "markdown",
   "id": "36a1fea8",
   "metadata": {},
   "source": [
    "**Q20. Scenario: A company wants to analyze the relationship between advertising expenditure and sales. The data collected is as follows:**\n",
    "\n",
    "Advertising Expenditure (in thousands): [10, 15, 12, 8, 14]\n",
    "    \n",
    "Sales (in thousands): [25, 30, 28, 20, 26]\n",
    "    \n",
    "Perform a multiple regression analysis to predict sales based on advertising expenditure."
   ]
  },
  {
   "cell_type": "code",
   "execution_count": 27,
   "id": "85134f71",
   "metadata": {},
   "outputs": [
    {
     "name": "stderr",
     "output_type": "stream",
     "text": [
      "C:\\Users\\sunil\\anaconda3\\lib\\site-packages\\statsmodels\\stats\\stattools.py:74: ValueWarning: omni_normtest is not valid with less than 8 observations; 5 samples were given.\n",
      "  warn(\"omni_normtest is not valid with less than 8 observations; %i \"\n"
     ]
    },
    {
     "data": {
      "text/html": [
       "<table class=\"simpletable\">\n",
       "<caption>OLS Regression Results</caption>\n",
       "<tr>\n",
       "  <th>Dep. Variable:</th>          <td>Sales</td>      <th>  R-squared:         </th> <td>   0.767</td>\n",
       "</tr>\n",
       "<tr>\n",
       "  <th>Model:</th>                   <td>OLS</td>       <th>  Adj. R-squared:    </th> <td>   0.689</td>\n",
       "</tr>\n",
       "<tr>\n",
       "  <th>Method:</th>             <td>Least Squares</td>  <th>  F-statistic:       </th> <td>   9.872</td>\n",
       "</tr>\n",
       "<tr>\n",
       "  <th>Date:</th>             <td>Wed, 12 Jul 2023</td> <th>  Prob (F-statistic):</th>  <td>0.0516</td> \n",
       "</tr>\n",
       "<tr>\n",
       "  <th>Time:</th>                 <td>10:07:39</td>     <th>  Log-Likelihood:    </th> <td> -9.5288</td>\n",
       "</tr>\n",
       "<tr>\n",
       "  <th>No. Observations:</th>      <td>     5</td>      <th>  AIC:               </th> <td>   23.06</td>\n",
       "</tr>\n",
       "<tr>\n",
       "  <th>Df Residuals:</th>          <td>     3</td>      <th>  BIC:               </th> <td>   22.28</td>\n",
       "</tr>\n",
       "<tr>\n",
       "  <th>Df Model:</th>              <td>     1</td>      <th>                     </th>     <td> </td>   \n",
       "</tr>\n",
       "<tr>\n",
       "  <th>Covariance Type:</th>      <td>nonrobust</td>    <th>                     </th>     <td> </td>   \n",
       "</tr>\n",
       "</table>\n",
       "<table class=\"simpletable\">\n",
       "<tr>\n",
       "             <td></td>                <th>coef</th>     <th>std err</th>      <th>t</th>      <th>P>|t|</th>  <th>[0.025</th>    <th>0.975]</th>  \n",
       "</tr>\n",
       "<tr>\n",
       "  <th>const</th>                   <td>   12.2012</td> <td>    4.429</td> <td>    2.755</td> <td> 0.070</td> <td>   -1.893</td> <td>   26.296</td>\n",
       "</tr>\n",
       "<tr>\n",
       "  <th>Advertising Expenditure</th> <td>    1.1524</td> <td>    0.367</td> <td>    3.142</td> <td> 0.052</td> <td>   -0.015</td> <td>    2.320</td>\n",
       "</tr>\n",
       "</table>\n",
       "<table class=\"simpletable\">\n",
       "<tr>\n",
       "  <th>Omnibus:</th>       <td>   nan</td> <th>  Durbin-Watson:     </th> <td>   1.136</td>\n",
       "</tr>\n",
       "<tr>\n",
       "  <th>Prob(Omnibus):</th> <td>   nan</td> <th>  Jarque-Bera (JB):  </th> <td>   0.546</td>\n",
       "</tr>\n",
       "<tr>\n",
       "  <th>Skew:</th>          <td>-0.267</td> <th>  Prob(JB):          </th> <td>   0.761</td>\n",
       "</tr>\n",
       "<tr>\n",
       "  <th>Kurtosis:</th>      <td> 1.471</td> <th>  Cond. No.          </th> <td>    57.3</td>\n",
       "</tr>\n",
       "</table><br/><br/>Notes:<br/>[1] Standard Errors assume that the covariance matrix of the errors is correctly specified."
      ],
      "text/plain": [
       "<class 'statsmodels.iolib.summary.Summary'>\n",
       "\"\"\"\n",
       "                            OLS Regression Results                            \n",
       "==============================================================================\n",
       "Dep. Variable:                  Sales   R-squared:                       0.767\n",
       "Model:                            OLS   Adj. R-squared:                  0.689\n",
       "Method:                 Least Squares   F-statistic:                     9.872\n",
       "Date:                Wed, 12 Jul 2023   Prob (F-statistic):             0.0516\n",
       "Time:                        10:07:39   Log-Likelihood:                -9.5288\n",
       "No. Observations:                   5   AIC:                             23.06\n",
       "Df Residuals:                       3   BIC:                             22.28\n",
       "Df Model:                           1                                         \n",
       "Covariance Type:            nonrobust                                         \n",
       "===========================================================================================\n",
       "                              coef    std err          t      P>|t|      [0.025      0.975]\n",
       "-------------------------------------------------------------------------------------------\n",
       "const                      12.2012      4.429      2.755      0.070      -1.893      26.296\n",
       "Advertising Expenditure     1.1524      0.367      3.142      0.052      -0.015       2.320\n",
       "==============================================================================\n",
       "Omnibus:                          nan   Durbin-Watson:                   1.136\n",
       "Prob(Omnibus):                    nan   Jarque-Bera (JB):                0.546\n",
       "Skew:                          -0.267   Prob(JB):                        0.761\n",
       "Kurtosis:                       1.471   Cond. No.                         57.3\n",
       "==============================================================================\n",
       "\n",
       "Notes:\n",
       "[1] Standard Errors assume that the covariance matrix of the errors is correctly specified.\n",
       "\"\"\""
      ]
     },
     "execution_count": 27,
     "metadata": {},
     "output_type": "execute_result"
    }
   ],
   "source": [
    "advertising_expenditure = [10, 15, 12, 8, 14]\n",
    "sales = [25, 30, 28, 20, 26]\n",
    "\n",
    "# Create a DataFrame with the variables\n",
    "data = pd.DataFrame({'Advertising Expenditure': advertising_expenditure, 'Sales': sales})\n",
    "\n",
    "# Add a constant column for the intercept term\n",
    "data = sm.add_constant(data)\n",
    "\n",
    "# Fit the multiple regression model\n",
    "model = sm.OLS(data['Sales'], data[['const', 'Advertising Expenditure']])\n",
    "results = model.fit()\n",
    "\n",
    "# Print the summary of the regression model\n",
    "results.summary()"
   ]
  },
  {
   "cell_type": "code",
   "execution_count": null,
   "id": "87103fa6",
   "metadata": {},
   "outputs": [],
   "source": []
  }
 ],
 "metadata": {
  "kernelspec": {
   "display_name": "Python 3 (ipykernel)",
   "language": "python",
   "name": "python3"
  },
  "language_info": {
   "codemirror_mode": {
    "name": "ipython",
    "version": 3
   },
   "file_extension": ".py",
   "mimetype": "text/x-python",
   "name": "python",
   "nbconvert_exporter": "python",
   "pygments_lexer": "ipython3",
   "version": "3.9.13"
  }
 },
 "nbformat": 4,
 "nbformat_minor": 5
}
