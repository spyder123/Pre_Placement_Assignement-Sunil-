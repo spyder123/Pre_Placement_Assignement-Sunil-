{
 "cells": [
  {
   "cell_type": "markdown",
   "id": "0f7b411b",
   "metadata": {},
   "source": [
    "***Question 1 Given an integer array nums of 2n integers, group these integers into n pairs (a1, b1), (a2, b2), ..., (an, bn) such that the sum of min(ai, bi) for all i is maximized. Return the maximized sum.***\n",
    "\n",
    "\n",
    "Example 1:\n",
    "\n",
    "Input: nums = [1,4,3,2]\n",
    "\n",
    "Output: 4\n",
    "\n",
    "Explanation: All possible pairings (ignoring the ordering of elements) are:\n",
    "\n",
    "1. (1, 4), (2, 3) -> min(1, 4) + min(2, 3) = 1 + 2 = 3\n",
    "2. (1, 3), (2, 4) -> min(1, 3) + min(2, 4) = 1 + 2 = 3\n",
    "3. (1, 2), (3, 4) -> min(1, 2) + min(3, 4) = 1 + 3 = 4\n",
    "\n",
    "So the maximum possible sum is 4"
   ]
  },
  {
   "cell_type": "code",
   "execution_count": 3,
   "id": "2e92d681",
   "metadata": {},
   "outputs": [
    {
     "name": "stdout",
     "output_type": "stream",
     "text": [
      "4\n"
     ]
    }
   ],
   "source": [
    "def maxPairSum(nums):\n",
    "    nums.sort()\n",
    "    sum_min = 0\n",
    "    for i in range(0, len(nums), 2):\n",
    "        sum_min += nums[i]\n",
    "    return sum_min\n",
    "nums = [1, 4, 3, 2]\n",
    "print(maxPairSum(nums)) "
   ]
  },
  {
   "cell_type": "code",
   "execution_count": 4,
   "id": "59a32be7",
   "metadata": {},
   "outputs": [
    {
     "name": "stdout",
     "output_type": "stream",
     "text": [
      "20\n"
     ]
    }
   ],
   "source": [
    "def maxPairSum(nums):\n",
    "    nums.sort()\n",
    "    sum_min = 0\n",
    "    for i in range(0, len(nums), 2):\n",
    "        sum_min += nums[i]\n",
    "    return sum_min\n",
    "nums = [1, 4, 3, 2,8,9,7,9]\n",
    "print(maxPairSum(nums)) "
   ]
  },
  {
   "cell_type": "markdown",
   "id": "df8bbdb6",
   "metadata": {},
   "source": [
    "***Question 2 Alice has n candies, where the ith candy is of type candyType[i]. Alice noticed that she started to gain weight, so she visited a doctor.***\n",
    "\n",
    "***The doctor advised Alice to only eat n / 2 of the candies she has (n is always even). Alice likes her candies very much, and she wants to eat the maximum number of different types of candies while still following the doctor's advice.***\n",
    "\n",
    "***Given the integer array candyType of length n, return the maximum number of different types of candies she can eat if she only eats n / 2 of them.***\n",
    "\n",
    "Example 1:\n",
    "\n",
    "Input: candyType = [1,1,2,2,3,3]\n",
    "\n",
    "Output: 3\n",
    "\n",
    "Explanation: Alice can only eat 6 / 2 = 3 candies. Since there are only 3 types, she can eat one of each type."
   ]
  },
  {
   "cell_type": "code",
   "execution_count": 5,
   "id": "7cc95659",
   "metadata": {},
   "outputs": [
    {
     "name": "stdout",
     "output_type": "stream",
     "text": [
      "3\n"
     ]
    }
   ],
   "source": [
    "def Candies(Type):\n",
    "    max_candies = len(Type) // 2\n",
    "    candy_set = set(Type)\n",
    "    return min(len(candy_set), max_candies)\n",
    "Type = [1, 1, 2, 2, 3, 3]\n",
    "print(Candies(Type))\n"
   ]
  },
  {
   "cell_type": "code",
   "execution_count": 7,
   "id": "fe486e83",
   "metadata": {},
   "outputs": [
    {
     "name": "stdout",
     "output_type": "stream",
     "text": [
      "4\n"
     ]
    }
   ],
   "source": [
    "def Candies(Type):\n",
    "    max_candies = len(Type) // 2\n",
    "    candy_set = set(Type)\n",
    "    return min(len(candy_set), max_candies)\n",
    "Type = [1, 1,3,3, 2, 2, 3, 3,4,4]\n",
    "print(Candies(Type))\n"
   ]
  },
  {
   "cell_type": "markdown",
   "id": "7e2a01ff",
   "metadata": {},
   "source": [
    "***Question 3 We define a harmonious array as an array where the difference between its maximum value and its minimum value is exactly 1.Given an integer array nums, return the length of its longest harmonious subsequence among all its possible subsequences.***\n",
    "\n",
    "***A subsequence of an array is a sequence that can be derived from the array by deleting some or no elements without changing the order of the remaining elements.***\n",
    "\n",
    "Example 1:\n",
    "\n",
    "Input: nums = [1,3,2,2,5,2,3,7]\n",
    "\n",
    "Output: 5\n",
    "\n",
    "Explanation: The longest harmonious subsequence is [3,2,2,2,3]."
   ]
  },
  {
   "cell_type": "code",
   "execution_count": 8,
   "id": "8d655277",
   "metadata": {},
   "outputs": [
    {
     "data": {
      "text/plain": [
       "5"
      ]
     },
     "execution_count": 8,
     "metadata": {},
     "output_type": "execute_result"
    }
   ],
   "source": [
    "def findLHS(nums):\n",
    "    num_counts = {}\n",
    "    max_len = 0\n",
    "\n",
    "    #Count the frequency of each number\n",
    "    for num in nums:\n",
    "        if num in num_counts:\n",
    "            num_counts[num] += 1\n",
    "        else:\n",
    "            num_counts[num] = 1\n",
    "\n",
    "    #the length of the longest harmonious subsequence\n",
    "    for num in num_counts:\n",
    "        if num + 1 in num_counts:\n",
    "            curr_len = num_counts[num] + num_counts[num + 1]\n",
    "            max_len = max(max_len, curr_len)\n",
    "\n",
    "    return max_len\n",
    "nums = [1,3,2,2,5,2,3,7]\n",
    "\n",
    "findLHS(nums)"
   ]
  },
  {
   "cell_type": "markdown",
   "id": "bf9fe3bd",
   "metadata": {},
   "source": [
    "**Question 4\n",
    "You have a long flowerbed in which some of the plots are planted, and some are not. However, flowers cannot be planted in adjacent plots.**\n",
    "\n",
    "**Given an integer array flowerbed containing 0's and 1's, where 0 means empty and 1 means not empty, and an integer n, return true if n new flowers can be planted in the flowerbed without violating the no-adjacent-flowers rule and false otherwise.**\n",
    "\n",
    "Example 1:\n",
    "\n",
    "Input: flowerbed = [1,0,0,0,1], n = 1\n",
    "\n",
    "Output: true"
   ]
  },
  {
   "cell_type": "code",
   "execution_count": 9,
   "id": "e4edca13",
   "metadata": {},
   "outputs": [
    {
     "name": "stdout",
     "output_type": "stream",
     "text": [
      "False\n"
     ]
    }
   ],
   "source": [
    "def flowers(flowerbed, n):\n",
    "    count = 0\n",
    "    length = len(flowerbed)\n",
    "    i = 0\n",
    "\n",
    "    while i < length:\n",
    "        if flowerbed[i] == 0 and (i == 0 or flowerbed[i - 1] == 0) and (i == length - 1 or flowerbed[i + 1] == 0):\n",
    "            flowerbed[i] = 1\n",
    "            count += 1\n",
    "            i += 1  \n",
    "        if count >= n:\n",
    "            return True\n",
    "        i += 1\n",
    "\n",
    "    return False\n",
    "flowerbed = [0, 1, 0, 1,0,1,0]\n",
    "n = 1\n",
    "\n",
    "print(flowers(flowerbed, n))"
   ]
  },
  {
   "cell_type": "code",
   "execution_count": 10,
   "id": "25da55ce",
   "metadata": {},
   "outputs": [
    {
     "name": "stdout",
     "output_type": "stream",
     "text": [
      "True\n"
     ]
    }
   ],
   "source": [
    "def flowers(flowerbed, n):\n",
    "    count = 0\n",
    "    length = len(flowerbed)\n",
    "    i = 0\n",
    "\n",
    "    while i < length:\n",
    "        if flowerbed[i] == 0 and (i == 0 or flowerbed[i - 1] == 0) and (i == length - 1 or flowerbed[i + 1] == 0):\n",
    "            flowerbed[i] = 1\n",
    "            count += 1\n",
    "            i += 1  \n",
    "        if count >= n:\n",
    "            return True\n",
    "        i += 1\n",
    "\n",
    "    return False\n",
    "flowerbed = [1,0,0,0,1]\n",
    "n = 1\n",
    "\n",
    "print(flowers(flowerbed, n))"
   ]
  },
  {
   "cell_type": "markdown",
   "id": "dffc1e46",
   "metadata": {},
   "source": [
    "***Question 5\n",
    "Given an integer array nums, find three numbers whose product is maximum and return the maximum product.***\n",
    "\n",
    "Example 1:\n",
    "\n",
    "Input: nums = [1,2,3]\n",
    "\n",
    "Output: 6"
   ]
  },
  {
   "cell_type": "code",
   "execution_count": 12,
   "id": "d71e206d",
   "metadata": {},
   "outputs": [
    {
     "data": {
      "text/plain": [
       "315"
      ]
     },
     "execution_count": 12,
     "metadata": {},
     "output_type": "execute_result"
    }
   ],
   "source": [
    "def MaxProduct(arr):\n",
    "    arr.sort()\n",
    "    maxnumlist = arr[-3:]\n",
    "    product = 1\n",
    "    for i in maxnumlist:\n",
    "        product*=i\n",
    "    return product\n",
    "arr = [1,2,3,5,9,7]\n",
    "MaxProduct(arr)"
   ]
  },
  {
   "cell_type": "code",
   "execution_count": 13,
   "id": "5905e831",
   "metadata": {},
   "outputs": [
    {
     "data": {
      "text/plain": [
       "630"
      ]
     },
     "execution_count": 13,
     "metadata": {},
     "output_type": "execute_result"
    }
   ],
   "source": [
    "def MaxProduct(arr):\n",
    "    arr.sort()\n",
    "    maxnumlist = arr[-3:]\n",
    "    product = 1\n",
    "    for i in maxnumlist:\n",
    "        product*=i\n",
    "    return product\n",
    "arr = [10,2,5,3,5,9,7,1]\n",
    "MaxProduct(arr)"
   ]
  },
  {
   "cell_type": "markdown",
   "id": "09f7e9a2",
   "metadata": {},
   "source": [
    "***Question 6\n",
    "Given an array of integers nums which is sorted in ascending order, and an integer target, write a function to search target in nums. If target exists, then return its index. Otherwise, return -1.***\n",
    "\n",
    "***You must write an algorithm with O(log n) runtime complexity.***\n",
    "\n",
    "Input: nums = [-1,0,3,5,9,12], target = 9\n",
    "\n",
    "Output: 4\n",
    "\n",
    "Explanation: 9 exists in nums and its index is 4"
   ]
  },
  {
   "cell_type": "code",
   "execution_count": 14,
   "id": "ea32c6c4",
   "metadata": {},
   "outputs": [
    {
     "data": {
      "text/plain": [
       "4"
      ]
     },
     "execution_count": 14,
     "metadata": {},
     "output_type": "execute_result"
    }
   ],
   "source": [
    "def FindTarget(nums, target):\n",
    "    positive_arr = [ele for ele in nums if ele >= 0]\n",
    "    if target in positive_arr:\n",
    "        return positive_arr.index(target)+1\n",
    "    else:\n",
    "        return -1\n",
    "nums = [-1,0,3,5,9,12]\n",
    "target = 9\n",
    "FindTarget(nums, target)"
   ]
  },
  {
   "cell_type": "code",
   "execution_count": 16,
   "id": "d82d1a16",
   "metadata": {},
   "outputs": [
    {
     "data": {
      "text/plain": [
       "-1"
      ]
     },
     "execution_count": 16,
     "metadata": {},
     "output_type": "execute_result"
    }
   ],
   "source": [
    "def FindTarget(nums, target):\n",
    "    positive_arr = [ele for ele in nums if ele >= 0]\n",
    "    if target in positive_arr:\n",
    "        return positive_arr.index(target)+1\n",
    "    else:\n",
    "        return -1\n",
    "nums = [-11,0,3,11,5,9,10,12]\n",
    "target = -11\n",
    "FindTarget(nums, target)\n"
   ]
  },
  {
   "cell_type": "markdown",
   "id": "4ed7fc09",
   "metadata": {},
   "source": [
    "***Question 7\n",
    "An array is monotonic if it is either monotone increasing or monotone decreasing.***\n",
    "\n",
    "***An array nums is monotone increasing if for all i <= j, nums[i] <= nums[j]. An array nums is monotone decreasing if for all i <= j, nums[i] >= nums[j].***\n",
    "\n",
    "***Given an integer array nums, return true if the given array is monotonic, or false otherwise.***\n",
    "\n",
    "Example 1:\n",
    "\n",
    "Input: nums = [1,2,2,3]\n",
    "\n",
    "Output: true"
   ]
  },
  {
   "cell_type": "code",
   "execution_count": 17,
   "id": "6bf24f21",
   "metadata": {},
   "outputs": [
    {
     "data": {
      "text/plain": [
       "True"
      ]
     },
     "execution_count": 17,
     "metadata": {},
     "output_type": "execute_result"
    }
   ],
   "source": [
    "def ismonotonic(nums):\n",
    "    \n",
    "    increasing = True\n",
    "    decreasing = True\n",
    "    for i in range(1, len(nums)):\n",
    "        if nums[i] < nums[i-1]:\n",
    "            increasing = False\n",
    "        if nums[i] > nums[i-1]:\n",
    "            decreasing = False\n",
    "\n",
    "    return increasing or decreasing\n",
    "nums = [1,2,2,3]\n",
    "ismonotonic(nums)"
   ]
  },
  {
   "cell_type": "code",
   "execution_count": 18,
   "id": "9a312481",
   "metadata": {},
   "outputs": [
    {
     "data": {
      "text/plain": [
       "False"
      ]
     },
     "execution_count": 18,
     "metadata": {},
     "output_type": "execute_result"
    }
   ],
   "source": [
    "def ismonotonic(nums):\n",
    "    \n",
    "    increasing = True\n",
    "    decreasing = True\n",
    "    for i in range(1, len(nums)):\n",
    "        if nums[i] < nums[i-1]:\n",
    "            increasing = False\n",
    "        if nums[i] > nums[i-1]:\n",
    "            decreasing = False\n",
    "\n",
    "    return increasing or decreasing\n",
    "nums = [1,2,2,7,3]\n",
    "ismonotonic(nums)"
   ]
  },
  {
   "cell_type": "markdown",
   "id": "eb0254ac",
   "metadata": {},
   "source": [
    "***Question 8 You are given an integer array nums and an integer k.***\n",
    "\n",
    "***In one operation, you can choose any index i where 0 <= i < nums.length and change nums[i] to nums[i] + x where x is an integer from the range [-k, k]. You can apply this operation at most once for each index i.***\n",
    "\n",
    "***The score of nums is the difference between the maximum and minimum elements in nums.***\n",
    "\n",
    "***Return the minimum score of nums after applying the mentioned operation at most once for each index in it.***\n",
    "\n",
    "Example 1:\n",
    "\n",
    "Input: nums = [1], k = 0\n",
    "\n",
    "Output: 0\n",
    "\n",
    "Explanation: The score is max(nums) - min(nums) = 1 - 1 = 0."
   ]
  },
  {
   "cell_type": "code",
   "execution_count": 19,
   "id": "78bfdd4c",
   "metadata": {},
   "outputs": [
    {
     "data": {
      "text/plain": [
       "0"
      ]
     },
     "execution_count": 19,
     "metadata": {},
     "output_type": "execute_result"
    }
   ],
   "source": [
    "def min_score(nums, k):\n",
    "    minimum = nums[0]\n",
    "    maximum = nums[0]\n",
    "\n",
    "    for i in range(1, len(nums)):\n",
    "        max_increase = nums[i] + k\n",
    "        \n",
    "        if max_increase > maximum:\n",
    "            maximum = max_increase\n",
    "        min_decrease = nums[i] - k\n",
    "        \n",
    "        if min_decrease < minimum:\n",
    "            minimum = min_decrease\n",
    "            \n",
    "    score = maximum - minimum\n",
    "    return score\n",
    "nums = [1]\n",
    "k = 0\n",
    "min_score(nums,k)"
   ]
  },
  {
   "cell_type": "code",
   "execution_count": 21,
   "id": "0582a79e",
   "metadata": {},
   "outputs": [
    {
     "data": {
      "text/plain": [
       "0"
      ]
     },
     "execution_count": 21,
     "metadata": {},
     "output_type": "execute_result"
    }
   ],
   "source": [
    "def min_score(nums, k):\n",
    "    minimum = nums[0]\n",
    "    maximum = nums[0]\n",
    "\n",
    "    for i in range(1, len(nums)):\n",
    "        max_increase = nums[i] + k\n",
    "        \n",
    "        if max_increase > maximum:\n",
    "            maximum = max_increase\n",
    "        min_decrease = nums[i] - k\n",
    "        \n",
    "        if min_decrease < minimum:\n",
    "            minimum = min_decrease\n",
    "            \n",
    "    score = maximum - minimum\n",
    "    return score\n",
    "nums = [10]\n",
    "k = 0\n",
    "min_score(nums,k)"
   ]
  }
 ],
 "metadata": {
  "kernelspec": {
   "display_name": "Python 3 (ipykernel)",
   "language": "python",
   "name": "python3"
  },
  "language_info": {
   "codemirror_mode": {
    "name": "ipython",
    "version": 3
   },
   "file_extension": ".py",
   "mimetype": "text/x-python",
   "name": "python",
   "nbconvert_exporter": "python",
   "pygments_lexer": "ipython3",
   "version": "3.9.13"
  }
 },
 "nbformat": 4,
 "nbformat_minor": 5
}
