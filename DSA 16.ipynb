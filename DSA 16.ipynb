{
 "cells": [
  {
   "cell_type": "markdown",
   "id": "32193079",
   "metadata": {},
   "source": [
    "<aside>\n",
    "💡 **Question 1**\n",
    "\n",
    "Given an array, for each element find the value of the nearest element to the right which is having a frequency greater than that of the current element. If there does not exist an answer for a position, then make the value ‘-1’.\n",
    "\n",
    "**Examples:**\n",
    "\n",
    "```\n",
    "Input: a[] = [1, 1, 2, 3, 4, 2, 1]\n",
    "Output : [-1, -1, 1, 2, 2, 1, -1]\n",
    "\n",
    "Explanation:\n",
    "Given array a[] = [1, 1, 2, 3, 4, 2, 1]\n",
    "Frequency of each element is: 3, 3, 2, 1, 1, 2, 3\n",
    "\n",
    "Lets calls Next Greater Frequency element as NGF\n",
    "1. For element a[0] = 1 which has a frequency = 3,\n",
    "   As it has frequency of 3 and no other next element\n",
    "   has frequency more than 3 so  '-1'\n",
    "2. For element a[1] = 1 it will be -1 same logic\n",
    "   like a[0]\n",
    "3. For element a[2] = 2 which has frequency = 2,\n",
    "   NGF element is 1 at position = 6  with frequency\n",
    "   of 3 > 2\n",
    "4. For element a[3] = 3 which has frequency = 1,\n",
    "   NGF element is 2 at position = 5 with frequency\n",
    "   of 2 > 1\n",
    "5. For element a[4] = 4 which has frequency = 1,\n",
    "   NGF element is 2 at position = 5 with frequency\n",
    "   of 2 > 1\n",
    "6. For element a[5] = 2 which has frequency = 2,\n",
    "   NGF element is 1 at position = 6 with frequency\n",
    "   of 3 > 2\n",
    "7. For element a[6] = 1 there is no element to its\n",
    "   right, hence -1\n",
    "```\n",
    "\n",
    "```\n",
    "Input : a[] = [1, 1, 1, 2, 2, 2, 2, 11, 3, 3]\n",
    "Output : [2, 2, 2, -1, -1, -1, -1, 3, -1, -1]\n",
    "```\n",
    "\n",
    "</aside>\n",
    "\n",
    "<aside>\n"
   ]
  },
  {
   "cell_type": "code",
   "execution_count": 3,
   "id": "a15b2e1b",
   "metadata": {},
   "outputs": [
    {
     "name": "stdout",
     "output_type": "stream",
     "text": [
      "[-1, -1, 1, 2, 2, 1, -1]\n"
     ]
    }
   ],
   "source": [
    "def find_nearest_greater_frequency(arr):\n",
    "    frequency = {}\n",
    "    stack = []\n",
    "    result = [-1] * len(arr)\n",
    "\n",
    "    # Calculate the frequency of each element\n",
    "    for num in arr:\n",
    "        frequency[num] = frequency.get(num, 0) + 1\n",
    "\n",
    "    # Iterate over the array from right to left\n",
    "    for i in range(len(arr) - 1, -1, -1):\n",
    "        # Pop elements from the stack while their frequency is less than or equal to the current element's frequency\n",
    "        while stack and frequency[arr[i]] >= frequency[arr[stack[-1]]]:\n",
    "            stack.pop()\n",
    "\n",
    "        # If there is an element to the right with a higher frequency, update the result array\n",
    "        if stack:\n",
    "            result[i] = arr[stack[-1]]\n",
    "\n",
    "        # Push the current index onto the stack\n",
    "        stack.append(i)\n",
    "\n",
    "    return result\n",
    "arr1 = [1, 1, 2, 3, 4, 2, 1]\n",
    "print(find_nearest_greater_frequency(arr1))\n",
    "\n"
   ]
  },
  {
   "cell_type": "code",
   "execution_count": 4,
   "id": "d352d12f",
   "metadata": {},
   "outputs": [
    {
     "name": "stdout",
     "output_type": "stream",
     "text": [
      "[2, 2, 2, -1, -1, -1, -1, 3, -1, -1]\n"
     ]
    }
   ],
   "source": [
    "def find_nearest_greater_frequency(arr):\n",
    "    frequency = {}\n",
    "    stack = []\n",
    "    result = [-1] * len(arr)\n",
    "\n",
    "    # Calculate the frequency of each element\n",
    "    for num in arr:\n",
    "        frequency[num] = frequency.get(num, 0) + 1\n",
    "\n",
    "    # Iterate over the array from right to left\n",
    "    for i in range(len(arr) - 1, -1, -1):\n",
    "        # Pop elements from the stack while their frequency is less than or equal to the current element's frequency\n",
    "        while stack and frequency[arr[i]] >= frequency[arr[stack[-1]]]:\n",
    "            stack.pop()\n",
    "\n",
    "        # If there is an element to the right with a higher frequency, update the result array\n",
    "        if stack:\n",
    "            result[i] = arr[stack[-1]]\n",
    "\n",
    "        # Push the current index onto the stack\n",
    "        stack.append(i)\n",
    "\n",
    "    return result\n",
    "\n",
    "arr2 = [1, 1, 1, 2, 2, 2, 2, 11, 3, 3]\n",
    "print(find_nearest_greater_frequency(arr2))"
   ]
  },
  {
   "cell_type": "markdown",
   "id": "f2dab9dc",
   "metadata": {},
   "source": [
    "<aside>\n",
    "💡 **Question 2**\n",
    "\n",
    "Given a stack of integers, sort it in ascending order using another temporary stack.\n",
    "\n",
    "**Examples:**\n",
    "    \n",
    "Input : [34, 3, 31, 98, 92, 23]\n",
    "    \n",
    "Output : [3, 23, 31, 34, 92, 98]\n",
    "\n",
    "Input : [3, 5, 1, 4, 2, 8]\n",
    "    \n",
    "Output : [1, 2, 3, 4, 5, 8]\n",
    "</aside>"
   ]
  },
  {
   "cell_type": "code",
   "execution_count": 6,
   "id": "83616103",
   "metadata": {},
   "outputs": [
    {
     "name": "stdout",
     "output_type": "stream",
     "text": [
      "[3, 23, 31, 34, 92, 98]\n"
     ]
    }
   ],
   "source": [
    "def sort_stack(stack):\n",
    "    temp_stack = []\n",
    "\n",
    "    while stack:\n",
    "        temp = stack.pop()\n",
    "\n",
    "        while temp_stack and temp_stack[-1] > temp:\n",
    "            stack.append(temp_stack.pop())\n",
    "\n",
    "        temp_stack.append(temp)\n",
    "\n",
    "    while temp_stack:\n",
    "        stack.append(temp_stack.pop())\n",
    "\n",
    "    return sorted(stack)\n",
    "\n",
    "stack = [34, 3, 31, 98, 92, 23]\n",
    "sorted_stack = sort_stack(stack)\n",
    "print(sorted_stack)"
   ]
  },
  {
   "cell_type": "code",
   "execution_count": 7,
   "id": "4595c058",
   "metadata": {},
   "outputs": [
    {
     "name": "stdout",
     "output_type": "stream",
     "text": [
      "[1, 2, 3, 4, 5, 8]\n"
     ]
    }
   ],
   "source": [
    "def sort_stack(stack):\n",
    "    temp_stack = []\n",
    "\n",
    "    while stack:\n",
    "        temp = stack.pop()\n",
    "\n",
    "        while temp_stack and temp_stack[-1] > temp:\n",
    "            stack.append(temp_stack.pop())\n",
    "\n",
    "        temp_stack.append(temp)\n",
    "\n",
    "    while temp_stack:\n",
    "        stack.append(temp_stack.pop())\n",
    "\n",
    "    return sorted(stack)\n",
    "\n",
    "stack = [3, 5, 1, 4, 2, 8]\n",
    "sorted_stack = sort_stack(stack)\n",
    "print(sorted_stack)"
   ]
  },
  {
   "cell_type": "markdown",
   "id": "62477586",
   "metadata": {},
   "source": [
    "<aside>\n",
    "💡 **Question 3**\n",
    "\n",
    "Given a stack with **push()**, **pop()**, and **empty()** operations, The task is to delete the **middle** element ****of it without using any additional data structure.\n",
    "\n",
    "Input  : Stack[] = [1, 2, 3, 4, 5]\n",
    "\n",
    "Output : Stack[] = [1, 2, 4, 5]\n",
    "\n",
    "Input  : Stack[] = [1, 2, 3, 4, 5, 6]\n",
    "\n",
    "Output : Stack[] = [1, 2, 4, 5, 6]\n",
    "\n",
    "</aside>"
   ]
  },
  {
   "cell_type": "code",
   "execution_count": 8,
   "id": "123035f1",
   "metadata": {},
   "outputs": [
    {
     "name": "stdout",
     "output_type": "stream",
     "text": [
      "[1, 2, 4, 5]\n"
     ]
    }
   ],
   "source": [
    "def delete_middle_element(stack):\n",
    "    size = len(stack)\n",
    "    temp_stack = []\n",
    "\n",
    "    # Move elements from the original stack to the temporary stack\n",
    "    while stack:\n",
    "        temp_stack.append(stack.pop())\n",
    "\n",
    "    middle_index = size // 2\n",
    "    is_odd_size = size % 2 == 1\n",
    "\n",
    "    # Pop elements from the temporary stack and push them back to the original stack,\n",
    "    # skipping the middle element\n",
    "    for _ in range(middle_index):\n",
    "        stack.append(temp_stack.pop())\n",
    "\n",
    "    if is_odd_size:\n",
    "        temp_stack.pop()\n",
    "\n",
    "    # Push the remaining elements from the temporary stack back to the original stack\n",
    "    while temp_stack:\n",
    "        stack.append(temp_stack.pop())\n",
    "\n",
    "    return stack\n",
    "stack1 = [1, 2, 3, 4, 5]\n",
    "print(delete_middle_element(stack1))\n",
    "# Output: [1, 2, 4, 5]"
   ]
  },
  {
   "cell_type": "code",
   "execution_count": 9,
   "id": "d5925196",
   "metadata": {},
   "outputs": [
    {
     "name": "stdout",
     "output_type": "stream",
     "text": [
      "[1, 2, 3, 4, 5, 6]\n"
     ]
    }
   ],
   "source": [
    "def delete_middle_element(stack):\n",
    "    size = len(stack)\n",
    "    temp_stack = []\n",
    "\n",
    "    # Move elements from the original stack to the temporary stack\n",
    "    while stack:\n",
    "        temp_stack.append(stack.pop())\n",
    "\n",
    "    middle_index = size // 2\n",
    "    is_odd_size = size % 2 == 1\n",
    "\n",
    "    # Pop elements from the temporary stack and push them back to the original stack,\n",
    "    # skipping the middle element\n",
    "    for _ in range(middle_index):\n",
    "        stack.append(temp_stack.pop())\n",
    "\n",
    "    if is_odd_size:\n",
    "        temp_stack.pop()\n",
    "\n",
    "    # Push the remaining elements from the temporary stack back to the original stack\n",
    "    while temp_stack:\n",
    "        stack.append(temp_stack.pop())\n",
    "\n",
    "    return stack\n",
    "\n",
    "stack2 = [1, 2, 3, 4, 5, 6]\n",
    "print(delete_middle_element(stack2))\n",
    "# Output: [1, 2, 4, 5, 6]"
   ]
  },
  {
   "cell_type": "markdown",
   "id": "110501b8",
   "metadata": {},
   "source": [
    "<aside>\n",
    "💡 **Question 4**\n",
    "\n",
    "Given a Queue consisting of first **n** natural numbers (in random order). The task is to check whether the given Queue elements can be arranged in increasing order in another Queue using a stack. The operation allowed are:\n",
    "\n",
    "1. Push and pop elements from the stack\n",
    "2. Pop (Or Dequeue) from the given Queue.\n",
    "3. Push (Or Enqueue) in the another Queue.\n",
    "\n",
    "**Examples :**\n",
    "\n",
    "Input : Queue[] = { 5, 1, 2, 3, 4 } \n",
    "\n",
    "Output : Yes \n",
    "\n",
    "Pop the first element of the given Queue \n",
    "\n",
    "i.e 5. Push 5 into the stack. \n",
    "\n",
    "Now, pop all the elements of the given Queue and push them to second Queue. \n",
    "\n",
    "Now, pop element 5 in the stack and push it to the second Queue.   \n",
    "\n",
    "Input : Queue[] = { 5, 1, 2, 6, 3, 4 } \n",
    "\n",
    "Output : No \n",
    "\n",
    "Push 5 to stack. \n",
    "\n",
    "Pop 1, 2 from given Queue and push it to another Queue. \n",
    "\n",
    "Pop 6 from given Queue and push to stack. \n",
    "\n",
    "Pop 3, 4 from given Queue and push to second Queue. \n",
    "\n",
    "Now, from using any of above operation, we cannot push 5 into the second Queue because it is below the 6 in the stack.\n",
    "\n",
    "</aside>\n",
    "\n",
    "<aside>\n"
   ]
  },
  {
   "cell_type": "code",
   "execution_count": 11,
   "id": "cdf5df90",
   "metadata": {},
   "outputs": [
    {
     "name": "stdout",
     "output_type": "stream",
     "text": [
      "Yes\n"
     ]
    }
   ],
   "source": [
    "from queue import Queue\n",
    "\n",
    "\n",
    "def check_queue_order(queue):\n",
    "    stack = []\n",
    "    expected = 1\n",
    "\n",
    "    while not queue.empty():\n",
    "        front = queue.queue[0]\n",
    "\n",
    "        if front == expected:\n",
    "            queue.get()\n",
    "            expected += 1\n",
    "        else:\n",
    "            if len(stack) == 0 or stack[-1] > front:\n",
    "                stack.append(front)\n",
    "                queue.get()\n",
    "            else:\n",
    "                return \"No\"\n",
    "\n",
    "    while len(stack) > 0:\n",
    "        if stack[-1] == expected:\n",
    "            stack.pop()\n",
    "            expected += 1\n",
    "        else:\n",
    "            return \"No\"\n",
    "\n",
    "    return \"Yes\"\n",
    "\n",
    "queue = Queue()\n",
    "queue.put(5)\n",
    "queue.put(1)\n",
    "queue.put(2)\n",
    "queue.put(3)\n",
    "queue.put(4)\n",
    "result = check_queue_order(queue)\n",
    "print(result) \n"
   ]
  },
  {
   "cell_type": "code",
   "execution_count": 12,
   "id": "3be30d1d",
   "metadata": {},
   "outputs": [
    {
     "name": "stdout",
     "output_type": "stream",
     "text": [
      "No\n"
     ]
    }
   ],
   "source": [
    "queue = Queue()\n",
    "queue.put(5)\n",
    "queue.put(1)\n",
    "queue.put(2)\n",
    "queue.put(6)\n",
    "queue.put(3)\n",
    "queue.put(4)\n",
    "result = check_queue_order(queue)\n",
    "print(result) "
   ]
  },
  {
   "cell_type": "markdown",
   "id": "cbc6f17a",
   "metadata": {},
   "source": [
    "<aside>\n",
    "💡 **Question 5**\n",
    "\n",
    "Given a number , write a program to reverse this number using stack.\n",
    "\n",
    "**Examples:**\n",
    "\n",
    "```\n",
    "Input : 365\n",
    "Output : 563\n",
    "\n",
    "Input : 6899\n",
    "Output : 9986\n",
    "```\n",
    "\n",
    "</aside>\n",
    "\n",
    "<aside>\n"
   ]
  },
  {
   "cell_type": "code",
   "execution_count": 14,
   "id": "21dfe595",
   "metadata": {},
   "outputs": [
    {
     "name": "stdout",
     "output_type": "stream",
     "text": [
      "563\n",
      "9986\n"
     ]
    }
   ],
   "source": [
    "def reverse_number(number):\n",
    "    # Convert the number to a string\n",
    "    number_str = str(number)\n",
    "    \n",
    "    # Initialize an empty stack\n",
    "    stack = []\n",
    "    \n",
    "    # Push each digit onto the stack\n",
    "    for digit in number_str:\n",
    "        stack.append(digit)\n",
    "    \n",
    "    # Pop the digits from the stack and construct the reversed number\n",
    "    reversed_number = ''\n",
    "    while stack:\n",
    "        reversed_number += stack.pop()\n",
    "    \n",
    "    # Convert the reversed number back to an integer\n",
    "    reversed_number = int(reversed_number)\n",
    "    \n",
    "    # Return the reversed number\n",
    "    return reversed_number\n",
    "\n",
    "# Example usage\n",
    "number = 365\n",
    "\n",
    "# Function call to reverse number\n",
    "reversed_number = reverse_number(number)\n",
    "print(reversed_number)\n",
    "number = 6899\n",
    "\n",
    "# Function call to reverse number\n",
    "reversed_number = reverse_number(number)\n",
    "print(reversed_number)\n"
   ]
  },
  {
   "cell_type": "markdown",
   "id": "7388457c",
   "metadata": {},
   "source": [
    "<aside>\n",
    "💡 **Question 6**\n",
    "\n",
    "Given an integer k and a **[queue](https://www.geeksforgeeks.org/queue-data-structure/)** of integers, The task is to reverse the order of the first **k** elements of the queue, leaving the other elements in the same relative order.\n",
    "\n",
    "Only following standard operations are allowed on queue.\n",
    "\n",
    "- **enqueue(x) :** Add an item x to rear of queue\n",
    "- **dequeue() :** Remove an item from front of queue\n",
    "- **size() :** Returns number of elements in queue.\n",
    "- **front() :** Finds front item.\n",
    "</aside>"
   ]
  },
  {
   "cell_type": "code",
   "execution_count": 15,
   "id": "ddf2ac63",
   "metadata": {},
   "outputs": [
    {
     "name": "stdout",
     "output_type": "stream",
     "text": [
      "3\n",
      "2\n",
      "1\n",
      "4\n",
      "5\n"
     ]
    }
   ],
   "source": [
    "from queue import Queue\n",
    "\n",
    "def reverse_k_elements(queue, k):\n",
    "    if k <= 0 or k > queue.qsize():\n",
    "        return  # Invalid k value\n",
    "\n",
    "    stack = []  # Stack to temporarily store elements\n",
    "    # Dequeue the first k elements and push them onto the stack\n",
    "    for _ in range(k):\n",
    "        element = queue.get()\n",
    "        stack.append(element)\n",
    "\n",
    "    # Enqueue the elements from the stack back into the queue\n",
    "    while stack:\n",
    "        element = stack.pop()\n",
    "        queue.put(element)\n",
    "\n",
    "    # Dequeue the remaining elements and enqueue them back into the queue\n",
    "    for _ in range(queue.qsize() - k):\n",
    "        element = queue.get()\n",
    "        queue.put(element)\n",
    "\n",
    "# Example usage\n",
    "queue = Queue()\n",
    "queue.put(1)\n",
    "queue.put(2)\n",
    "queue.put(3)\n",
    "queue.put(4)\n",
    "queue.put(5)\n",
    "\n",
    "k = 3\n",
    "\n",
    "reverse_k_elements(queue, k)\n",
    "\n",
    "# Print the modified queue\n",
    "while not queue.empty():\n",
    "    print(queue.get())"
   ]
  },
  {
   "cell_type": "markdown",
   "id": "a53c25e8",
   "metadata": {},
   "source": [
    "<aside>\n",
    "💡 **Question 7**\n",
    "\n",
    "Given a sequence of n strings, the task is to check if any two similar words come together and then destroy each other then print the number of words left in the sequence after this pairwise destruction.\n",
    "\n",
    "**Examples:**\n",
    "\n",
    "Input : ab aa aa bcd ab\n",
    "\n",
    "Output : 3\n",
    "\n",
    "*As aa, aa destroys each other so,*\n",
    "\n",
    "*ab bcd ab is the new sequence.*\n",
    "\n",
    "Input :  tom jerry jerry tom\n",
    "\n",
    "Output : 0\n",
    "\n",
    "*As first both jerry will destroy each other.*\n",
    "\n",
    "*Then sequence will be tom, tom they will also destroy*\n",
    "\n",
    "*each other. So, the final sequence doesn’t contain any*\n",
    "\n",
    "*word.*\n",
    "\n",
    "</aside>\n",
    "\n",
    "<aside>"
   ]
  },
  {
   "cell_type": "code",
   "execution_count": 16,
   "id": "8ff451fb",
   "metadata": {},
   "outputs": [
    {
     "name": "stdout",
     "output_type": "stream",
     "text": [
      "3\n"
     ]
    }
   ],
   "source": [
    "def count_remaining_words(sequence):\n",
    "    stack = []\n",
    "\n",
    "    for word in sequence:\n",
    "        if not stack or word != stack[-1]:\n",
    "            stack.append(word)\n",
    "        else:\n",
    "            stack.pop()\n",
    "\n",
    "    return len(stack)\n",
    "sequence_1 = ['ab', 'aa', 'aa', 'bcd', 'ab']\n",
    "print(count_remaining_words(sequence_1))\n",
    "# Output: 3\n"
   ]
  },
  {
   "cell_type": "code",
   "execution_count": 17,
   "id": "15769df2",
   "metadata": {},
   "outputs": [
    {
     "name": "stdout",
     "output_type": "stream",
     "text": [
      "0\n"
     ]
    }
   ],
   "source": [
    "def count_remaining_words(sequence):\n",
    "    stack = []\n",
    "\n",
    "    for word in sequence:\n",
    "        if not stack or word != stack[-1]:\n",
    "            stack.append(word)\n",
    "        else:\n",
    "            stack.pop()\n",
    "\n",
    "    return len(stack)\n",
    "sequence_2 = ['tom', 'jerry', 'jerry', 'tom']\n",
    "print(count_remaining_words(sequence_2))\n",
    "# Output: 0"
   ]
  },
  {
   "cell_type": "markdown",
   "id": "0b0afe32",
   "metadata": {},
   "source": [
    "<aside>\n",
    "💡 **Question 8**\n",
    "\n",
    "Given an array of integers, the task is to find the maximum absolute difference between the nearest left and the right smaller element of every element in the array.\n",
    "\n",
    "**Note:** If there is no smaller element on right side or left side of any element then we take zero as the smaller element. For example for the leftmost element, the nearest smaller element on the left side is considered as 0. Similarly, for rightmost elements, the smaller element on the right side is considered as 0.\n",
    "\n",
    "**Examples:**\n",
    "\n",
    "```\n",
    "Input : arr[] = {2, 1, 8}\n",
    "Output : 1\n",
    "Left smaller  LS[] {0, 0, 1}\n",
    "Right smaller RS[] {1, 0, 0}\n",
    "Maximum Diff of abs(LS[i] - RS[i]) = 1\n",
    "\n",
    "Input  : arr[] = {2, 4, 8, 7, 7, 9, 3}\n",
    "Output : 4\n",
    "Left smaller   LS[] = {0, 2, 4, 4, 4, 7, 2}\n",
    "Right smaller  RS[] = {0, 3, 7, 3, 3, 3, 0}\n",
    "Maximum Diff of abs(LS[i] - RS[i]) = 7 - 3 = 4\n",
    "\n",
    "Input : arr[] = {5, 1, 9, 2, 5, 1, 7}\n",
    "Output : 1\n",
    "```\n",
    "\n",
    "</aside>"
   ]
  },
  {
   "cell_type": "code",
   "execution_count": 19,
   "id": "577a1d08",
   "metadata": {},
   "outputs": [
    {
     "name": "stdout",
     "output_type": "stream",
     "text": [
      "1\n",
      "4\n",
      "1\n"
     ]
    }
   ],
   "source": [
    "def max_absolute_difference(arr):\n",
    "    n = len(arr)\n",
    "    LS = [0] * n\n",
    "    RS = [0] * n\n",
    "    stack = []\n",
    "\n",
    "    # Calculate the nearest smaller element on the left (LS)\n",
    "    for i in range(n):\n",
    "        while stack and stack[-1] >= arr[i]:\n",
    "            stack.pop()\n",
    "        if stack:\n",
    "            LS[i] = stack[-1]\n",
    "        stack.append(arr[i])\n",
    "\n",
    "    stack.clear()\n",
    "\n",
    "    # Calculate the nearest smaller element on the right (RS)\n",
    "    for i in range(n - 1, -1, -1):\n",
    "        while stack and stack[-1] >= arr[i]:\n",
    "            stack.pop()\n",
    "        if stack:\n",
    "            RS[i] = stack[-1]\n",
    "        stack.append(arr[i])\n",
    "\n",
    "    max_diff = 0\n",
    "\n",
    "    # Calculate the maximum absolute difference\n",
    "    for i in range(n):\n",
    "        diff = abs(LS[i] - RS[i])\n",
    "        if diff > max_diff:\n",
    "            max_diff = diff\n",
    "\n",
    "    return max_diff\n",
    "arr_1 = [2, 1, 8]\n",
    "print(max_absolute_difference(arr_1))\n",
    "# Output: 1\n",
    "\n",
    "arr_2 = [2, 4, 8, 7, 7, 9, 3]\n",
    "print(max_absolute_difference(arr_2))\n",
    "# Output: 4\n",
    "\n",
    "arr_3 = [5, 1, 9, 2, 5, 1, 7]\n",
    "print(max_absolute_difference(arr_3))"
   ]
  },
  {
   "cell_type": "code",
   "execution_count": null,
   "id": "7e8599b5",
   "metadata": {},
   "outputs": [],
   "source": []
  }
 ],
 "metadata": {
  "kernelspec": {
   "display_name": "Python 3 (ipykernel)",
   "language": "python",
   "name": "python3"
  },
  "language_info": {
   "codemirror_mode": {
    "name": "ipython",
    "version": 3
   },
   "file_extension": ".py",
   "mimetype": "text/x-python",
   "name": "python",
   "nbconvert_exporter": "python",
   "pygments_lexer": "ipython3",
   "version": "3.9.13"
  }
 },
 "nbformat": 4,
 "nbformat_minor": 5
}
