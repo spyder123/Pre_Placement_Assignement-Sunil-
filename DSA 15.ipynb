{
 "cells": [
  {
   "cell_type": "markdown",
   "id": "2c27a69f",
   "metadata": {},
   "source": [
    "<aside>\n",
    "💡 **Question 1**\n",
    "\n",
    "Given an array **arr[ ]** of size **N** having elements, the task is to find the next greater element for each element of the array in order of their appearance in the array.Next greater element of an element in the array is the nearest element on the right which is greater than the current element.If there does not exist next greater of current element, then next greater element for current element is -1. For example, next greater of the last element is always -1.\n",
    "\n",
    "**Example 1:**\n",
    "\n",
    "</aside>"
   ]
  },
  {
   "cell_type": "markdown",
   "id": "42c18d2f",
   "metadata": {},
   "source": [
    "Input:\n",
    "    \n",
    "N = 4, arr[] = [1 3 2 4]\n",
    "\n",
    "Output:\n",
    "    \n",
    "3 4 4 -1\n",
    "\n",
    "Explanation:\n",
    "In the array, the next larger element\n",
    "to 1 is 3 , 3 is 4 , 2 is 4 and for 4 ?\n",
    "since it doesn't exist, it is -1.\n"
   ]
  },
  {
   "cell_type": "code",
   "execution_count": 3,
   "id": "dfd89de8",
   "metadata": {},
   "outputs": [
    {
     "name": "stdout",
     "output_type": "stream",
     "text": [
      "3 4 4 -1\n"
     ]
    }
   ],
   "source": [
    "N=4\n",
    "arr=[2,3,1,4]\n",
    "result = []\n",
    "\n",
    "for i in range(N):\n",
    "    next_greater = -1\n",
    "    for j in range(i+1, N):\n",
    "        if arr[j] > arr[i]:\n",
    "            next_greater = arr[j]\n",
    "            break\n",
    "    result.append(next_greater)\n",
    "\n",
    "print(' '.join(map(str, result)))"
   ]
  },
  {
   "cell_type": "markdown",
   "id": "fc54e66f",
   "metadata": {},
   "source": [
    "Input:\n",
    "\n",
    "N = 5, arr[] [6 8 0 1 3]\n",
    "\n",
    "Output:\n",
    "\n",
    "8 -1 1 3 -1\n",
    "\n",
    "Explanation:\n",
    "In the array, the next larger element to\n",
    "6 is 8, for 8 there is no larger elements\n",
    "hence it is -1, for 0 it is 1 , for 1 it\n",
    "is 3 and then for 3 there is no larger\n",
    "element on right and hence -1."
   ]
  },
  {
   "cell_type": "code",
   "execution_count": 4,
   "id": "b036e55e",
   "metadata": {},
   "outputs": [
    {
     "name": "stdout",
     "output_type": "stream",
     "text": [
      "8 -1 1 3 -1\n"
     ]
    }
   ],
   "source": [
    "N=5\n",
    "arr=[6,8,0,1,3]\n",
    "result = []\n",
    "\n",
    "for i in range(N):\n",
    "    next_greater = -1\n",
    "    for j in range(i+1, N):\n",
    "        if arr[j] > arr[i]:\n",
    "            next_greater = arr[j]\n",
    "            break\n",
    "    result.append(next_greater)\n",
    "\n",
    "print(' '.join(map(str, result)))"
   ]
  },
  {
   "cell_type": "markdown",
   "id": "d371f580",
   "metadata": {},
   "source": [
    "💡 Question 2\n",
    "\n",
    "Given an array a of integers of length n, find the nearest smaller number for every element such that the smaller element is on left side.If no small element present on the left print -1."
   ]
  },
  {
   "cell_type": "markdown",
   "id": "8b90eb44",
   "metadata": {},
   "source": [
    "Input: n = 3\n",
    "    \n",
    "a = {1, 6, 2}\n",
    "\n",
    "Output: -1 1 1\n",
    "    \n",
    "Explaination: There is no number at the\n",
    "left of 1. Smaller number than 6 and 2 is 1."
   ]
  },
  {
   "cell_type": "code",
   "execution_count": 5,
   "id": "e8d0192c",
   "metadata": {},
   "outputs": [
    {
     "name": "stdout",
     "output_type": "stream",
     "text": [
      "[-1, 1, 1]\n"
     ]
    }
   ],
   "source": [
    "def nearest_smaller(arr):\n",
    "    n = len(arr)\n",
    "    stack = []\n",
    "    result = []\n",
    "\n",
    "    for i in range(n):\n",
    "        while stack and stack[-1] >= arr[i]:\n",
    "            stack.pop()\n",
    "\n",
    "        if stack:\n",
    "            result.append(stack[-1])\n",
    "        else:\n",
    "            result.append(-1)\n",
    "\n",
    "        stack.append(arr[i])\n",
    "\n",
    "    return result\n",
    "a = [ 1, 6, 2]\n",
    "output = nearest_smaller(a)\n",
    "print(output)"
   ]
  },
  {
   "cell_type": "markdown",
   "id": "873a8679",
   "metadata": {},
   "source": [
    "Input: n = 6\n",
    "\n",
    "a = {1, 5, 0, 3, 4, 5}\n",
    "\n",
    "Output: -1 1 -1 0 3 4\n",
    "\n",
    "Explaination: Upto 3 it is easy to see\n",
    "the smaller numbers. But for 4 the smaller\n",
    "numbers are 1, 0 and 3. But among them 3\n",
    "is closest. Similary for 5 it is 4."
   ]
  },
  {
   "cell_type": "code",
   "execution_count": 6,
   "id": "7227a7bc",
   "metadata": {},
   "outputs": [
    {
     "name": "stdout",
     "output_type": "stream",
     "text": [
      "[-1, 1, -1, 0, 3, 4]\n"
     ]
    }
   ],
   "source": [
    "def nearest_smaller(arr):\n",
    "    n = len(arr)\n",
    "    stack = []\n",
    "    result = []\n",
    "\n",
    "    for i in range(n):\n",
    "        while stack and stack[-1] >= arr[i]:\n",
    "            stack.pop()\n",
    "\n",
    "        if stack:\n",
    "            result.append(stack[-1])\n",
    "        else:\n",
    "            result.append(-1)\n",
    "\n",
    "        stack.append(arr[i])\n",
    "\n",
    "    return result\n",
    "a = [1,5,0,3,4,5]\n",
    "output = nearest_smaller(a)\n",
    "print(output)"
   ]
  },
  {
   "cell_type": "markdown",
   "id": "d06be438",
   "metadata": {},
   "source": [
    "<aside>\n",
    "💡 **Question 3**\n",
    "\n",
    "Implement a Stack using two queues **q1** and **q2**.\n",
    "\n",
    "**Example 1:**\n",
    "\n",
    "</aside>"
   ]
  },
  {
   "cell_type": "markdown",
   "id": "88392dd1",
   "metadata": {},
   "source": [
    "Input:\n",
    "\n",
    "push(2)\n",
    "\n",
    "push(3)\n",
    "\n",
    "pop()\n",
    "\n",
    "push(4)\n",
    "\n",
    "pop()\n",
    "\n",
    "Output:3 4\n",
    "\n",
    "Explanation:\n",
    "push(2) the stack will be {2}\n",
    "push(3) the stack will be {2 3}\n",
    "pop()   poped element will be 3 the\n",
    "        stack will be {2}\n",
    "push(4) the stack will be {2 4}\n",
    "pop()   poped element will be 4\n"
   ]
  },
  {
   "cell_type": "code",
   "execution_count": 8,
   "id": "067bf7f6",
   "metadata": {},
   "outputs": [
    {
     "name": "stdout",
     "output_type": "stream",
     "text": [
      "3\n",
      "4\n"
     ]
    }
   ],
   "source": [
    "from queue import Queue\n",
    "\n",
    "class Stack:\n",
    "    def __init__(self):\n",
    "        self.q1 = Queue()\n",
    "        self.q2 = Queue()\n",
    "\n",
    "    def push(self, value):\n",
    "        self.q2.put(value)\n",
    "        while not self.q1.empty():\n",
    "            self.q2.put(self.q1.get())\n",
    "        self.q1, self.q2 = self.q2, self.q1\n",
    "\n",
    "    def pop(self):\n",
    "        if self.q1.empty():\n",
    "            return None\n",
    "        return self.q1.get()\n",
    "\n",
    "# Example usage:\n",
    "stack = Stack()\n",
    "stack.push(2)\n",
    "stack.push(3)\n",
    "print(stack.pop())  \n",
    "stack.push(4)\n",
    "print(stack.pop()) "
   ]
  },
  {
   "cell_type": "markdown",
   "id": "2041b70f",
   "metadata": {},
   "source": [
    "Input:\n",
    "    \n",
    "push(2)\n",
    "\n",
    "pop()\n",
    "\n",
    "pop()\n",
    "\n",
    "push(3)\n",
    "\n",
    "Output:2 -1"
   ]
  },
  {
   "cell_type": "code",
   "execution_count": 10,
   "id": "7371c9f3",
   "metadata": {},
   "outputs": [
    {
     "name": "stdout",
     "output_type": "stream",
     "text": [
      "2\n",
      "None\n"
     ]
    }
   ],
   "source": [
    "from queue import Queue\n",
    "\n",
    "class Stack:\n",
    "    def __init__(self):\n",
    "        self.q1 = Queue()\n",
    "        self.q2 = Queue()\n",
    "\n",
    "    def push(self, value):\n",
    "        self.q2.put(value)\n",
    "        while not self.q1.empty():\n",
    "            self.q2.put(self.q1.get())\n",
    "        self.q1, self.q2 = self.q2, self.q1\n",
    "\n",
    "    def pop(self):\n",
    "        if self.q1.empty():\n",
    "            return None\n",
    "        return self.q1.get()\n",
    "\n",
    "# Example usage:\n",
    "stack = Stack()\n",
    "stack.push(2)\n",
    "print(stack.pop())\n",
    "print(stack.pop())  \n",
    "stack.push(3) "
   ]
  },
  {
   "cell_type": "markdown",
   "id": "d2d323c8",
   "metadata": {},
   "source": [
    "<aside>\n",
    "💡 **Question 4**\n",
    "\n",
    "You are given a stack **St**. You have to reverse the stack using recursion.\n",
    "\n",
    "**Example 1:**\n",
    "\n",
    "</aside>"
   ]
  },
  {
   "cell_type": "markdown",
   "id": "efcc9219",
   "metadata": {},
   "source": [
    "Input:St = {3,2,1,7,6}\n",
    "    \n",
    "Output:{6,7,1,2,3}"
   ]
  },
  {
   "cell_type": "code",
   "execution_count": 12,
   "id": "0b216c7d",
   "metadata": {},
   "outputs": [
    {
     "data": {
      "text/plain": [
       "[6, 7, 1, 2, 3]"
      ]
     },
     "execution_count": 12,
     "metadata": {},
     "output_type": "execute_result"
    }
   ],
   "source": [
    "def reverse_stack(St):\n",
    "    if len(St) <= 1:\n",
    "        return St\n",
    "    else:\n",
    "        temp = St.pop()\n",
    "        reverse_stack(St)\n",
    "        insert_at_bottom(St, temp)\n",
    "        return St\n",
    "\n",
    "def insert_at_bottom(St, item):\n",
    "    if len(St) == 0:\n",
    "        St.append(item)\n",
    "    else:\n",
    "        temp = St.pop()\n",
    "        insert_at_bottom(St, item)\n",
    "        St.append(temp)\n",
    "\n",
    "St = [3, 2, 1, 7, 6]\n",
    "reverse_stack(St)"
   ]
  },
  {
   "cell_type": "code",
   "execution_count": 13,
   "id": "04a76dde",
   "metadata": {},
   "outputs": [],
   "source": [
    "Input:St = {4,3,9,6}\n",
    "    \n",
    "Output:{6,9,3,4}"
   ]
  },
  {
   "cell_type": "code",
   "execution_count": 14,
   "id": "0056fdea",
   "metadata": {},
   "outputs": [
    {
     "data": {
      "text/plain": [
       "[6, 9, 3, 4]"
      ]
     },
     "execution_count": 14,
     "metadata": {},
     "output_type": "execute_result"
    }
   ],
   "source": [
    "def reverse_stack(St):\n",
    "    if len(St) <= 1:\n",
    "        return St\n",
    "    else:\n",
    "        temp = St.pop()\n",
    "        reverse_stack(St)\n",
    "        insert_at_bottom(St, temp)\n",
    "        return St\n",
    "\n",
    "def insert_at_bottom(St, item):\n",
    "    if len(St) == 0:\n",
    "        St.append(item)\n",
    "    else:\n",
    "        temp = St.pop()\n",
    "        insert_at_bottom(St, item)\n",
    "        St.append(temp)\n",
    "\n",
    "St = [4,3,9,6]\n",
    "reverse_stack(St)"
   ]
  },
  {
   "cell_type": "markdown",
   "id": "90349e85",
   "metadata": {},
   "source": [
    "💡 Question 5\n",
    "\n",
    "You are given a string S, the task is to reverse the string using stack."
   ]
  },
  {
   "cell_type": "markdown",
   "id": "32dbfc60",
   "metadata": {},
   "source": [
    "Input: S=\"GeeksforGeeks\"\n",
    "    \n",
    "Output: skeeGrofskeeG"
   ]
  },
  {
   "cell_type": "code",
   "execution_count": 16,
   "id": "7451287e",
   "metadata": {},
   "outputs": [
    {
     "name": "stdout",
     "output_type": "stream",
     "text": [
      "skeeGrofskeeG\n"
     ]
    }
   ],
   "source": [
    "def reverse_string(string):\n",
    "    stack = []\n",
    "    reversed_string = \"\"\n",
    "\n",
    "    for char in string:\n",
    "        stack.append(char)\n",
    "\n",
    "    while stack:\n",
    "        reversed_string += stack.pop()\n",
    "\n",
    "    return reversed_string\n",
    "\n",
    "S = \"GeeksforGeeks\"\n",
    "output = reverse_string(S)\n",
    "print(output)"
   ]
  },
  {
   "cell_type": "markdown",
   "id": "b01ec0fe",
   "metadata": {},
   "source": [
    "<aside>\n",
    "💡 **Question 6**\n",
    "\n",
    "Given string **S** representing a postfix expression, the task is to evaluate the expression and find the final value. Operators will only include the basic arithmetic operators like ***, /, + and -**.\n",
    "\n",
    "**Example 1:**\n",
    "\n",
    "</aside>"
   ]
  },
  {
   "cell_type": "markdown",
   "id": "53084c04",
   "metadata": {},
   "source": [
    "Input: S = \"231*+9-\"\n",
    "    \n",
    "Output: -4\n",
    "    \n",
    "Explanation:\n",
    "After solving the given expression,\n",
    "we have -4 as result.\n"
   ]
  },
  {
   "cell_type": "code",
   "execution_count": 20,
   "id": "375fc651",
   "metadata": {},
   "outputs": [
    {
     "name": "stdout",
     "output_type": "stream",
     "text": [
      "-4\n"
     ]
    }
   ],
   "source": [
    "def evaluate_postfix(expression):\n",
    "    stack = []\n",
    "\n",
    "    for char in expression:\n",
    "        if char.isdigit():\n",
    "            stack.append(int(char))\n",
    "        else:\n",
    "            operand2 = stack.pop()\n",
    "            operand1 = stack.pop()\n",
    "\n",
    "            if char == '+':\n",
    "                stack.append(operand1 + operand2)\n",
    "            elif char == '-':\n",
    "                stack.append(operand1 - operand2)\n",
    "            elif char == '*':\n",
    "                stack.append(operand1 * operand2)\n",
    "            elif char == '/':\n",
    "                stack.append(operand1 / operand2)\n",
    "\n",
    "    return stack.pop()\n",
    "S = \"231*+9-\"\n",
    "output = evaluate_postfix(S)\n",
    "print(output)"
   ]
  },
  {
   "cell_type": "markdown",
   "id": "f5a05f79",
   "metadata": {},
   "source": [
    "Input: S = \"123+*8-\"\n",
    "    \n",
    "Output: -3\n",
    "    \n",
    "Explanation:\n",
    "After solving the given postfix\n",
    "expression, we have -3 as result."
   ]
  },
  {
   "cell_type": "code",
   "execution_count": 22,
   "id": "b46c9c63",
   "metadata": {},
   "outputs": [
    {
     "name": "stdout",
     "output_type": "stream",
     "text": [
      "-3\n"
     ]
    }
   ],
   "source": [
    "def evaluate_postfix(expression):\n",
    "    stack = []\n",
    "\n",
    "    for char in expression:\n",
    "        if char.isdigit():\n",
    "            stack.append(int(char))\n",
    "        else:\n",
    "            operand2 = stack.pop()\n",
    "            operand1 = stack.pop()\n",
    "\n",
    "            if char == '+':\n",
    "                stack.append(operand1 + operand2)\n",
    "            elif char == '-':\n",
    "                stack.append(operand1 - operand2)\n",
    "            elif char == '*':\n",
    "                stack.append(operand1 * operand2)\n",
    "            elif char == '/':\n",
    "                stack.append(operand1 / operand2)\n",
    "\n",
    "    return stack.pop()\n",
    "S = \"123+*8-\"\n",
    "output = evaluate_postfix(S)\n",
    "print(output)"
   ]
  },
  {
   "cell_type": "markdown",
   "id": "38ef0132",
   "metadata": {},
   "source": [
    "<aside>\n",
    "💡 **Question 7**\n",
    "\n",
    "Design a stack that supports push, pop, top, and retrieving the minimum element in constant time.\n",
    "\n",
    "Implement the `MinStack` class:\n",
    "\n",
    "- `MinStack()` initializes the stack object.\n",
    "- `void push(int val)` pushes the element `val` onto the stack.\n",
    "- `void pop()` removes the element on the top of the stack.\n",
    "- `int top()` gets the top element of the stack.\n",
    "- `int getMin()` retrieves the minimum element in the stack.\n",
    "\n",
    "You must implement a solution with `O(1)` time complexity for each function.\n",
    "\n",
    "**Example 1:**\n",
    "\n",
    "</aside>"
   ]
  },
  {
   "cell_type": "markdown",
   "id": "aa8a1e62",
   "metadata": {},
   "source": [
    "Input\n",
    "[\"MinStack\",\"push\",\"push\",\"push\",\"getMin\",\"pop\",\"top\",\"getMin\"]\n",
    "\n",
    "[[],[-2],[0],[-3],[],[],[],[]]\n",
    "\n",
    "Output\n",
    "\n",
    "[null,null,null,null,-3,null,0,-2]\n",
    "\n",
    "Explanation\n",
    "MinStack minStack = new MinStack();\n",
    "minStack.push(-2);\n",
    "minStack.push(0);\n",
    "minStack.push(-3);\n",
    "minStack.getMin(); // return -3\n",
    "minStack.pop();\n",
    "minStack.top();    // return 0\n",
    "minStack.getMin(); // return -2"
   ]
  },
  {
   "cell_type": "code",
   "execution_count": 24,
   "id": "3ef42323",
   "metadata": {},
   "outputs": [
    {
     "name": "stdout",
     "output_type": "stream",
     "text": [
      "1\n",
      "1\n",
      "2\n",
      "2\n"
     ]
    }
   ],
   "source": [
    "class MinStack:\n",
    "    def __init__(self):\n",
    "        self.stack = []\n",
    "        self.min_stack = []\n",
    "\n",
    "    def push(self, val):\n",
    "        self.stack.append(val)\n",
    "        if not self.min_stack or val <= self.min_stack[-1]:\n",
    "            self.min_stack.append(val)\n",
    "\n",
    "    def pop(self):\n",
    "        if self.stack:\n",
    "            popped_element = self.stack.pop()\n",
    "            if popped_element == self.min_stack[-1]:\n",
    "                self.min_stack.pop()\n",
    "\n",
    "    def top(self):\n",
    "        if self.stack:\n",
    "            return self.stack[-1]\n",
    "\n",
    "    def getMin(self):\n",
    "        if self.min_stack:\n",
    "            return self.min_stack[-1]\n",
    "\n",
    "# Example usage:\n",
    "minStack = MinStack()\n",
    "minStack.push(3)\n",
    "minStack.push(5)\n",
    "minStack.push(2)\n",
    "minStack.push(1)\n",
    "\n",
    "print(minStack.top())     # Output: 1\n",
    "print(minStack.getMin())  # Output: 1\n",
    "\n",
    "minStack.pop()\n",
    "print(minStack.top())     \n",
    "print(minStack.getMin()) "
   ]
  },
  {
   "cell_type": "markdown",
   "id": "1f60682b",
   "metadata": {},
   "source": [
    "<aside>\n",
    "💡 **Question 8**\n",
    "\n",
    "Given `n` non-negative integers representing an elevation map where the width of each bar is `1`, compute how much water it can trap after raining.\n",
    "\n",
    "**Example 1:**\n",
    "\n",
    "</aside>"
   ]
  },
  {
   "cell_type": "markdown",
   "id": "a8242d7d",
   "metadata": {},
   "source": [
    "Input: height = [0,1,0,2,1,0,1,3,2,1,2,1]\n",
    "    \n",
    "Output: 6\n",
    "    \n",
    "Explanation: The above elevation map (black section) is represented by array [0,1,0,2,1,0,1,3,2,1,2,1]. In this case, 6 units of rain water (blue section) are being trapped.\n"
   ]
  },
  {
   "cell_type": "code",
   "execution_count": 25,
   "id": "e815c42f",
   "metadata": {},
   "outputs": [
    {
     "name": "stdout",
     "output_type": "stream",
     "text": [
      "6\n"
     ]
    }
   ],
   "source": [
    "def trap_water(height):\n",
    "    n = len(height)\n",
    "    if n < 3:\n",
    "        return 0\n",
    "\n",
    "    left = 0\n",
    "    right = n - 1\n",
    "    left_max = 0\n",
    "    right_max = 0\n",
    "    water = 0\n",
    "\n",
    "    while left < right:\n",
    "        if height[left] < height[right]:\n",
    "            if height[left] > left_max:\n",
    "                left_max = height[left]\n",
    "            else:\n",
    "                water += left_max - height[left]\n",
    "            left += 1\n",
    "        else:\n",
    "            if height[right] > right_max:\n",
    "                right_max = height[right]\n",
    "            else:\n",
    "                water += right_max - height[right]\n",
    "            right -= 1\n",
    "\n",
    "    return water\n",
    "height = [0, 1, 0, 2, 1, 0, 1, 3, 2, 1, 2, 1]\n",
    "output = trap_water(height)\n",
    "print(output)"
   ]
  },
  {
   "cell_type": "markdown",
   "id": "f9fc912b",
   "metadata": {},
   "source": [
    "Input: height = [4,2,0,3,2,5]\n",
    "    \n",
    "Output: 9"
   ]
  },
  {
   "cell_type": "code",
   "execution_count": 26,
   "id": "56d71ee8",
   "metadata": {},
   "outputs": [
    {
     "name": "stdout",
     "output_type": "stream",
     "text": [
      "9\n"
     ]
    }
   ],
   "source": [
    "def trap_water(height):\n",
    "    n = len(height)\n",
    "    if n < 3:\n",
    "        return 0\n",
    "\n",
    "    left = 0\n",
    "    right = n - 1\n",
    "    left_max = 0\n",
    "    right_max = 0\n",
    "    water = 0\n",
    "\n",
    "    while left < right:\n",
    "        if height[left] < height[right]:\n",
    "            if height[left] > left_max:\n",
    "                left_max = height[left]\n",
    "            else:\n",
    "                water += left_max - height[left]\n",
    "            left += 1\n",
    "        else:\n",
    "            if height[right] > right_max:\n",
    "                right_max = height[right]\n",
    "            else:\n",
    "                water += right_max - height[right]\n",
    "            right -= 1\n",
    "\n",
    "    return water\n",
    "height = [4,2,0,3,2,5]\n",
    "output = trap_water(height)\n",
    "print(output)"
   ]
  }
 ],
 "metadata": {
  "kernelspec": {
   "display_name": "Python 3 (ipykernel)",
   "language": "python",
   "name": "python3"
  },
  "language_info": {
   "codemirror_mode": {
    "name": "ipython",
    "version": 3
   },
   "file_extension": ".py",
   "mimetype": "text/x-python",
   "name": "python",
   "nbconvert_exporter": "python",
   "pygments_lexer": "ipython3",
   "version": "3.9.13"
  }
 },
 "nbformat": 4,
 "nbformat_minor": 5
}
