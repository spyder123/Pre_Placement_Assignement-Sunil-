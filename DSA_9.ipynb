{
 "cells": [
  {
   "cell_type": "markdown",
   "id": "9e5401f9",
   "metadata": {},
   "source": [
    "***💡 Question 1\n",
    "Given an integer n, return true if it is a power of two. Otherwise, return false.\n",
    "An integer n is a power of two, if there exists an integer x such that n == 2x.***\n",
    "\n",
    "Example 1: Input: n = 1\n",
    "\n",
    "Output: true\n",
    "\n",
    "Example 2: Input: n = 16\n",
    "\n",
    "Output: true\n",
    "\n",
    "Example 3: Input: n = 3\n",
    "\n",
    "Output: false"
   ]
  },
  {
   "cell_type": "code",
   "execution_count": 2,
   "id": "683a04ba",
   "metadata": {},
   "outputs": [
    {
     "name": "stdout",
     "output_type": "stream",
     "text": [
      "True\n",
      "True\n",
      "False\n"
     ]
    }
   ],
   "source": [
    "def isPowerOfTwo(n):\n",
    "    if n <= 0:\n",
    "        return False\n",
    "    return (n & (n - 1)) == 0\n",
    "\n",
    "print(isPowerOfTwo(1))   # Output: True\n",
    "print(isPowerOfTwo(16))  # Output: True\n",
    "print(isPowerOfTwo(3))   # Output: False"
   ]
  },
  {
   "cell_type": "markdown",
   "id": "ebc7cbaf",
   "metadata": {},
   "source": [
    "***💡 Question 2\n",
    "Given a number n, find the sum of the first natural numbers.***\n",
    "\n",
    "Example 1:\n",
    "\n",
    "Input: n = 3\n",
    "\n",
    "Output: 6\n",
    "\n",
    "Example 2:\n",
    "\n",
    "Input : 5\n",
    "\n",
    "Output : 15"
   ]
  },
  {
   "cell_type": "code",
   "execution_count": 3,
   "id": "8664a3db",
   "metadata": {},
   "outputs": [
    {
     "name": "stdout",
     "output_type": "stream",
     "text": [
      "6\n",
      "15\n"
     ]
    }
   ],
   "source": [
    "def sum_of_natural_numbers(n):\n",
    "    sum = (n * (n + 1)) // 2\n",
    "    return sum\n",
    "\n",
    "# Example usage\n",
    "n = 3\n",
    "result = sum_of_natural_numbers(n)\n",
    "print(result)  # Output: 6\n",
    "\n",
    "n = 5\n",
    "result = sum_of_natural_numbers(n)\n",
    "print(result)  # Output: 15"
   ]
  },
  {
   "cell_type": "markdown",
   "id": "d2ddd350",
   "metadata": {},
   "source": [
    "💡 Question 3\n",
    "\n",
    "****Given a positive integer, N. Find the factorial of N.***\n",
    "\n",
    "Example 1:\n",
    "\n",
    "Input: N = 5\n",
    "\n",
    "Output: 120\n",
    "\n",
    "Example 2:\n",
    "\n",
    "Input: N = 4\n",
    "\n",
    "Output: 24"
   ]
  },
  {
   "cell_type": "code",
   "execution_count": 4,
   "id": "e546a8e7",
   "metadata": {},
   "outputs": [
    {
     "name": "stdout",
     "output_type": "stream",
     "text": [
      "120\n"
     ]
    }
   ],
   "source": [
    "def factorial(N):\n",
    "    result = 1\n",
    "    for i in range(1, N+1):\n",
    "        result *= i\n",
    "    return result\n",
    "\n",
    "# Example usage:\n",
    "N = 5\n",
    "factorial_N = factorial(N)\n",
    "print(factorial_N)  # Output: 120"
   ]
  },
  {
   "cell_type": "code",
   "execution_count": 5,
   "id": "ffb7430b",
   "metadata": {},
   "outputs": [
    {
     "name": "stdout",
     "output_type": "stream",
     "text": [
      "24\n"
     ]
    }
   ],
   "source": [
    "def factorial(N):\n",
    "    result = 1\n",
    "    for i in range(1, N+1):\n",
    "        result *= i\n",
    "    return result\n",
    "\n",
    "# Example usage:\n",
    "N = 4\n",
    "factorial_N = factorial(N)\n",
    "print(factorial_N)  # Output: 24"
   ]
  },
  {
   "cell_type": "markdown",
   "id": "c98a1e6c",
   "metadata": {},
   "source": [
    "***💡 Question 4\n",
    "Given a number N and a power P, the task is to find the exponent of this number raised to the given power, i.e. N^P.***\n",
    "\n",
    "Example 1 :\n",
    "\n",
    "Input: N = 5, P = 2\n",
    "\n",
    "Output: 25\n",
    "\n",
    "Example 2 : Input: N = 2, P = 5\n",
    "\n",
    "Output: 32"
   ]
  },
  {
   "cell_type": "code",
   "execution_count": 6,
   "id": "6dde3683",
   "metadata": {},
   "outputs": [
    {
     "name": "stdout",
     "output_type": "stream",
     "text": [
      "25\n"
     ]
    }
   ],
   "source": [
    "N = 5\n",
    "P = 2\n",
    "result = N ** P\n",
    "print(result)"
   ]
  },
  {
   "cell_type": "code",
   "execution_count": 7,
   "id": "89e88a76",
   "metadata": {},
   "outputs": [
    {
     "name": "stdout",
     "output_type": "stream",
     "text": [
      "32\n"
     ]
    }
   ],
   "source": [
    "N = 2\n",
    "P = 5\n",
    "result = pow(N, P)\n",
    "print(result)"
   ]
  },
  {
   "cell_type": "markdown",
   "id": "3f7dd802",
   "metadata": {},
   "source": [
    "***💡 Question 5\n",
    "Given an array of integers arr, the task is to find maximum element of that array using recursion.***\n",
    "\n",
    "Example 1:\n",
    "\n",
    "Input: arr = {1, 4, 3, -5, -4, 8, 6}; Output: 8\n",
    "\n",
    "Example 2:\n",
    "\n",
    "Input: arr = {1, 4, 45, 6, 10, -8}; Output: 45"
   ]
  },
  {
   "cell_type": "code",
   "execution_count": 8,
   "id": "d31746c9",
   "metadata": {},
   "outputs": [
    {
     "name": "stdout",
     "output_type": "stream",
     "text": [
      "8\n"
     ]
    }
   ],
   "source": [
    "def findMax(arr, i):\n",
    "    # Base case\n",
    "    if i == len(arr) - 1:\n",
    "        return arr[i]\n",
    "\n",
    "    # Recursive case\n",
    "    return max(arr[i], findMax(arr, i + 1))\n",
    "\n",
    "# Example usage\n",
    "arr = [1, 4, 3, -5, -4, 8, 6]\n",
    "max_element = findMax(arr, 0)\n",
    "print(max_element)"
   ]
  },
  {
   "cell_type": "code",
   "execution_count": 9,
   "id": "2d7a4f93",
   "metadata": {},
   "outputs": [
    {
     "name": "stdout",
     "output_type": "stream",
     "text": [
      "45\n"
     ]
    }
   ],
   "source": [
    "def findMax(arr, i):\n",
    "    # Base case\n",
    "    if i == len(arr) - 1:\n",
    "        return arr[i]\n",
    "\n",
    "    # Recursive case\n",
    "    return max(arr[i], findMax(arr, i + 1))\n",
    "\n",
    "# Example usage\n",
    "arr = [1, 4, 45, 6, 10, -8]\n",
    "max_element = findMax(arr, 0)\n",
    "print(max_element)"
   ]
  },
  {
   "cell_type": "markdown",
   "id": "09cd7149",
   "metadata": {},
   "source": [
    "***💡 Question 6\n",
    "Given first term (a), common difference (d) and a integer N of the Arithmetic Progression series, the task is to find Nth term of the series.***\n",
    "\n",
    "Example 1:\n",
    "\n",
    "Input : a = 2 d = 1 N = 5 Output : 6 The 5th term of the series is : 6\n",
    "\n",
    "Example 2:\n",
    "\n",
    "Input : a = 5 d = 2 N = 10 Output : 23 The 10th term of the series is : 23"
   ]
  },
  {
   "cell_type": "code",
   "execution_count": 10,
   "id": "4d586648",
   "metadata": {},
   "outputs": [
    {
     "name": "stdout",
     "output_type": "stream",
     "text": [
      "The 5 th term of the series is: 6\n"
     ]
    }
   ],
   "source": [
    "def find_nth_term(a, d, N):\n",
    "    nth_term = a + (N - 1) * d\n",
    "    return nth_term\n",
    "\n",
    "# Example usage:\n",
    "a = 2\n",
    "d = 1\n",
    "N = 5\n",
    "nth_term = find_nth_term(a, d, N)\n",
    "print(\"The\", N, \"th term of the series is:\", nth_term)"
   ]
  },
  {
   "cell_type": "code",
   "execution_count": 11,
   "id": "9125957f",
   "metadata": {},
   "outputs": [
    {
     "name": "stdout",
     "output_type": "stream",
     "text": [
      "The 10 th term of the series is: 23\n"
     ]
    }
   ],
   "source": [
    "a = 5\n",
    "d = 2\n",
    "N = 10\n",
    "nth_term = find_nth_term(a, d, N)\n",
    "print(\"The\", N, \"th term of the series is:\", nth_term)"
   ]
  },
  {
   "cell_type": "markdown",
   "id": "8694ad46",
   "metadata": {},
   "source": [
    "***💡 Question 7\n",
    "Given a string S, the task is to write a program to print all permutations of a given string.***\n",
    "\n",
    "Example 1:\n",
    "\n",
    "*Input:*\n",
    "\n",
    "S = “ABC”\n",
    "\n",
    "*Output:*\n",
    "\n",
    "“ABC”, “ACB”, “BAC”, “BCA”, “CBA”, “CAB”\n",
    "\n",
    "Example 2:\n",
    "\n",
    "*Input:*\n",
    "\n",
    "S = “XY”\n",
    "\n",
    "*Output:*\n",
    "\n",
    "“XY”, “YX”"
   ]
  },
  {
   "cell_type": "code",
   "execution_count": 14,
   "id": "6985bbb2",
   "metadata": {},
   "outputs": [
    {
     "name": "stdout",
     "output_type": "stream",
     "text": [
      "ABC\n",
      "ACB\n",
      "BAC\n",
      "BCA\n",
      "CBA\n",
      "CAB\n"
     ]
    }
   ],
   "source": [
    "def permute(s, l, r):\n",
    "    if l == r:\n",
    "        print(''.join(s))\n",
    "    else:\n",
    "        for i in range(l, r + 1):\n",
    "            s[l], s[i] = s[i], s[l]  # Swap characters\n",
    "            permute(s, l + 1, r)    # Recursively permute remaining characters\n",
    "            s[l], s[i] = s[i], s[l]  # Revert the swap\n",
    "\n",
    "def print_permutations(string):\n",
    "    n = len(string)\n",
    "    s = list(string)\n",
    "    permute(s, 0, n - 1)\n",
    "\n",
    "# Example usage:\n",
    "string = \"ABC\"\n",
    "print_permutations(string)"
   ]
  },
  {
   "cell_type": "code",
   "execution_count": 15,
   "id": "91115120",
   "metadata": {},
   "outputs": [
    {
     "name": "stdout",
     "output_type": "stream",
     "text": [
      "XY\n",
      "YX\n"
     ]
    }
   ],
   "source": [
    "def permute(s, l, r):\n",
    "    if l == r:\n",
    "        print(''.join(s))\n",
    "    else:\n",
    "        for i in range(l, r + 1):\n",
    "            s[l], s[i] = s[i], s[l]  # Swap characters\n",
    "            permute(s, l + 1, r)    # Recursively permute remaining characters\n",
    "            s[l], s[i] = s[i], s[l]  # Revert the swap\n",
    "\n",
    "def print_permutations(string):\n",
    "    n = len(string)\n",
    "    s = list(string)\n",
    "    permute(s, 0, n - 1)\n",
    "\n",
    "\n",
    "string = \"XY\"\n",
    "print_permutations(string)"
   ]
  },
  {
   "cell_type": "markdown",
   "id": "83ec4e07",
   "metadata": {},
   "source": [
    "***💡 Question 8\n",
    "Given an array, find a product of all array elements.***\n",
    "\n",
    "Example 1:\n",
    "\n",
    "Input : arr[] = {1, 2, 3, 4, 5} Output : 120 Example 2:\n",
    "\n",
    "Input : arr[] = {1, 6, 3} Output : 18"
   ]
  },
  {
   "cell_type": "code",
   "execution_count": 18,
   "id": "d4d1bb5e",
   "metadata": {},
   "outputs": [
    {
     "name": "stdout",
     "output_type": "stream",
     "text": [
      "120\n"
     ]
    }
   ],
   "source": [
    "def find_product(arr):\n",
    "    product = 1\n",
    "    for num in arr:\n",
    "        product *= num\n",
    "    return product\n",
    "\n",
    "# Example usage:\n",
    "arr1 = [1, 2, 3, 4, 5]\n",
    "result1 = find_product(arr1)\n",
    "print(result1)  # Output: 120"
   ]
  },
  {
   "cell_type": "code",
   "execution_count": 19,
   "id": "6975e28b",
   "metadata": {},
   "outputs": [
    {
     "name": "stdout",
     "output_type": "stream",
     "text": [
      "18\n"
     ]
    }
   ],
   "source": [
    "def find_product(arr):\n",
    "    product = 1\n",
    "    for num in arr:\n",
    "        product *= num\n",
    "    return product\n",
    "\n",
    "# Example usage:\n",
    "arr2 = [1, 6, 3]\n",
    "result2 = find_product(arr2)\n",
    "print(result2)  # Output: 18"
   ]
  },
  {
   "cell_type": "code",
   "execution_count": null,
   "id": "c27e4fbf",
   "metadata": {},
   "outputs": [],
   "source": []
  }
 ],
 "metadata": {
  "kernelspec": {
   "display_name": "Python 3 (ipykernel)",
   "language": "python",
   "name": "python3"
  },
  "language_info": {
   "codemirror_mode": {
    "name": "ipython",
    "version": 3
   },
   "file_extension": ".py",
   "mimetype": "text/x-python",
   "name": "python",
   "nbconvert_exporter": "python",
   "pygments_lexer": "ipython3",
   "version": "3.9.13"
  }
 },
 "nbformat": 4,
 "nbformat_minor": 5
}
